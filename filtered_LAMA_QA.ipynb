{
 "cells": [
  {
   "cell_type": "code",
   "execution_count": 1,
   "id": "484800b8",
   "metadata": {},
   "outputs": [],
   "source": [
    "import os\n",
    "import pprint\n",
    "import json\n",
    "import jsonlines"
   ]
  },
  {
   "cell_type": "code",
   "execution_count": 2,
   "id": "28e28cad",
   "metadata": {},
   "outputs": [],
   "source": [
    "TRUSTED_VALUE = \"Yes\""
   ]
  },
  {
   "cell_type": "code",
   "execution_count": 10,
   "id": "cdf4759d",
   "metadata": {},
   "outputs": [
    {
     "name": "stdout",
     "output_type": "stream",
     "text": [
      "/bin/bash: /home/fernando/anaconda3/envs/rl/lib/libtinfo.so.6: no version information available (required by /bin/bash)\r\n",
      "code\t\t\t ejemplo_argparse.py\t   requirements.txt\r\n",
      "common_vocab_binary.txt  filtered_LAMA_QA.ipynb    Untitled1.ipynb\r\n",
      "common_vocab_cased.txt\t ideas.py\t\t   Untitled.ipynb\r\n",
      "data\t\t\t output\t\t\t   workbench.ipynb\r\n",
      "docker\t\t\t prompts\r\n",
      "download_data.sh\t relation-paraphrases.txt\r\n"
     ]
    }
   ],
   "source": [
    "!ls"
   ]
  },
  {
   "cell_type": "code",
   "execution_count": 11,
   "id": "7f1be5a0",
   "metadata": {},
   "outputs": [],
   "source": [
    "# Directory of original files\n",
    "directory_path = 'data/LAMA/data/TREx/'"
   ]
  },
  {
   "cell_type": "code",
   "execution_count": 16,
   "id": "928270c7",
   "metadata": {},
   "outputs": [],
   "source": [
    "# Directory of original files\n",
    "directory_path_prompt = 'prompts/'"
   ]
  },
  {
   "cell_type": "code",
   "execution_count": 17,
   "id": "afe4aa41",
   "metadata": {},
   "outputs": [],
   "source": [
    "# Getting original JSONL files\n",
    "directory_files = os.listdir(directory_path)\n",
    "files = [i for i in directory_files if i[-5:] == 'jsonl']"
   ]
  },
  {
   "cell_type": "code",
   "execution_count": 20,
   "id": "5dd1272f",
   "metadata": {},
   "outputs": [],
   "source": [
    "with open('extra/templates.txt') as f:\n",
    "    lines = f.readlines()"
   ]
  },
  {
   "cell_type": "code",
   "execution_count": 21,
   "id": "bebada27",
   "metadata": {},
   "outputs": [
    {
     "name": "stdout",
     "output_type": "stream",
     "text": [
      "['P30.jsonl', 'P495.jsonl', 'P740.jsonl', 'P103.jsonl', 'P364.jsonl', 'P19.jsonl', 'P20.jsonl', 'P279.jsonl', 'P108.jsonl', 'P39.jsonl', 'P937.jsonl']\n"
     ]
    }
   ],
   "source": [
    "selected_templates_names = [i.split()[1] for i in lines if len(i) > 1 and i.split()[1][0] == 'P']\n",
    "selected_templates = [i.split()[1]+'.jsonl' for i in lines if len(i) > 1 and i.split()[1][0] == 'P']\n",
    "print(selected_templates)"
   ]
  },
  {
   "cell_type": "code",
   "execution_count": 22,
   "id": "583668f8",
   "metadata": {},
   "outputs": [],
   "source": [
    "# Directory where filtered files will be\n",
    "directory_path_filtered = 'data/filtered_LAMA'\n",
    "if not os.path.exists(directory_path_filtered):\n",
    "    os.makedirs(directory_path_filtered)"
   ]
  },
  {
   "cell_type": "code",
   "execution_count": 23,
   "id": "a54a03c5",
   "metadata": {},
   "outputs": [],
   "source": [
    "def clean_rows(lists):\n",
    "    # Cleaning the prefix\n",
    "    return [i[3:] for i in lists if i[0:2] == 'Q:']    "
   ]
  },
  {
   "cell_type": "code",
   "execution_count": 24,
   "id": "038ffd1f",
   "metadata": {},
   "outputs": [],
   "source": [
    "def load_jsonl(file_name):\n",
    "    with open(file_name, 'r') as json_file:\n",
    "        json_list = list(json_file)\n",
    "    all_dicts = []\n",
    "    for json_str in json_list:\n",
    "        all_dicts.append(json.loads(json_str))\n",
    "        \n",
    "    return all_dicts"
   ]
  },
  {
   "cell_type": "code",
   "execution_count": 25,
   "id": "05f994d7",
   "metadata": {},
   "outputs": [],
   "source": [
    "def get_data(list_dicts):\n",
    "    obj_data = []\n",
    "    sub_data = []\n",
    "    for i in list_dicts:\n",
    "        obj_data.append(i['obj_label'])\n",
    "        sub_data.append(i['sub_label'])\n",
    "    return obj_data, sub_data"
   ]
  },
  {
   "cell_type": "code",
   "execution_count": null,
   "id": "858a8a45",
   "metadata": {},
   "outputs": [],
   "source": []
  },
  {
   "cell_type": "code",
   "execution_count": 15,
   "id": "8894818d",
   "metadata": {},
   "outputs": [],
   "source": []
  },
  {
   "cell_type": "code",
   "execution_count": 26,
   "id": "accfb1f9",
   "metadata": {},
   "outputs": [
    {
     "name": "stdout",
     "output_type": "stream",
     "text": [
      "P30.jsonl\n",
      "P495.jsonl\n",
      "P740.jsonl\n",
      "P103.jsonl\n",
      "P364.jsonl\n",
      "P19.jsonl\n",
      "P20.jsonl\n",
      "P279.jsonl\n",
      "P108.jsonl\n",
      "P39.jsonl\n",
      "P937.jsonl\n"
     ]
    }
   ],
   "source": [
    "for t in selected_templates:\n",
    "    print(t)\n",
    "    list_jsonl = []\n",
    "    a = load_jsonl(directory_path + t)\n",
    "    path_files = os.path.join(directory_path_filtered, t)\n",
    "    with jsonlines.open(path_files, 'w') as writer:\n",
    "        for i in a:\n",
    "            # Creating new keys for QA mode\n",
    "            i[\"sub_label_2\"] = i[\"obj_label\"]\n",
    "            \n",
    "            # If the context is TRUSTED then the obj_label will be Yes\n",
    "            i[\"obj_label\"] = TRUSTED_VALUE\n",
    "            list_jsonl.append(i)\n",
    "        writer.write_all(list_jsonl)\n",
    "    "
   ]
  },
  {
   "cell_type": "code",
   "execution_count": null,
   "id": "4ab1de1a",
   "metadata": {},
   "outputs": [],
   "source": []
  }
 ],
 "metadata": {
  "kernelspec": {
   "display_name": "Graph 3.8",
   "language": "python",
   "name": "graph_py39"
  },
  "language_info": {
   "codemirror_mode": {
    "name": "ipython",
    "version": 3
   },
   "file_extension": ".py",
   "mimetype": "text/x-python",
   "name": "python",
   "nbconvert_exporter": "python",
   "pygments_lexer": "ipython3",
   "version": "3.7.11"
  }
 },
 "nbformat": 4,
 "nbformat_minor": 5
}
