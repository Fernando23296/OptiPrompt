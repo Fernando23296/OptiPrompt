{
 "cells": [
  {
   "cell_type": "code",
   "execution_count": 1,
   "id": "9bdcc0dd",
   "metadata": {},
   "outputs": [],
   "source": [
    "import json\n",
    "import pandas as pd"
   ]
  },
  {
   "cell_type": "code",
   "execution_count": 2,
   "id": "8c05e5c5",
   "metadata": {},
   "outputs": [],
   "source": [
    "def load_jsonl(file_name):\n",
    "    with open(file_name, 'r') as json_file:\n",
    "        json_list = list(json_file)\n",
    "    all_dicts = []\n",
    "    for json_str in json_list:\n",
    "        all_dicts.append(json.loads(json_str))\n",
    "        \n",
    "    return all_dicts"
   ]
  },
  {
   "cell_type": "code",
   "execution_count": 3,
   "id": "ad844c14",
   "metadata": {},
   "outputs": [],
   "source": [
    "def get_dic_questions(case):\n",
    "    \n",
    "    lama_relations_path = 'prompts/LAMA_relations_'+str(case)+'.jsonl'\n",
    "    lama_relations = load_jsonl(lama_relations_path)\n",
    "\n",
    "    questions = []\n",
    "    for i in lama_relations:\n",
    "        #Possible to add the fact\n",
    "        #print(i['template'])\n",
    "        questions.append(i['template'])\n",
    "\n",
    "    dict_questions = {key: [] for key in questions}\n",
    "    return dict_questions"
   ]
  },
  {
   "cell_type": "code",
   "execution_count": 14,
   "id": "75a59fbc",
   "metadata": {},
   "outputs": [],
   "source": [
    "def extract_acc(dictionary_values, case):\n",
    "    dict_questions = get_dic_questions(case)\n",
    "    for d in dictionary_values:\n",
    "        #print(d)\n",
    "        for i in dictionary_values[d]:\n",
    "            data  = [i[0][2], i[0][3], i[0][4],d]\n",
    "            dict_questions[i[0][0]].append(data)\n",
    "\n",
    "    final_list = []\n",
    "    print(len(dict_questions))\n",
    "    for dict_q in dict_questions:\n",
    "        print(\"DICT Q\")\n",
    "        print(dict_q)\n",
    "        print(\"/\"*10)\n",
    "        print(dict_questions[dict_q])\n",
    "        print(\"/\"*10)\n",
    "        #print(dict_questions[dict_q][0][3])\n",
    "        acc = dict_questions[dict_q][0][0]/(dict_questions[dict_q][0][1]*2)\n",
    "        final_list.append([dict_q, acc, dict_questions[dict_q][0][2],  dict_questions[dict_q][0][3]])\n",
    "\n",
    "    return final_list"
   ]
  },
  {
   "cell_type": "code",
   "execution_count": 15,
   "id": "db40b934",
   "metadata": {},
   "outputs": [],
   "source": [
    "# the answer is\n",
    "#final_yes_the_answer_is = {'P108': [[['Does [W] work for [X]? the answer is: [Y]', 'P108', 216, 383, 'Yes']], [['Is [W] employed by [X]? the answer is: [Y]', 'P108', 1, 383, 'Yes']]], 'P937': [[['Did [W] find employment in [X]? the answer is: [Y]', 'P937', 198, 954, 'Yes']], [['Did [W] take up work in [X]? the answer is: [Y]', 'P937', 566, 954, 'Yes']], [['Did [W] use to work in [X]? the answer is: [Y]', 'P937', 186, 954, 'Yes']], [['Did [W] work in [X]? the answer is: [Y]', 'P937', 404, 954, 'Yes']], [['Does [W] work in [X]? the answer is: [Y]', 'P937', 343, 954, 'Yes']], [['Is [W] employed in [X]? the answer is: [Y]', 'P937', 41, 954, 'Yes']], [[\"Is [X] [W]'s employment location? the answer is: [Y]\", 'P937', 7, 954, 'Yes']], [[\"Is [X] [W]'s location of employment? the answer is: [Y]\", 'P937', 10, 954, 'Yes']], [[\"Is [X] [W]'s work location? the answer is: [Y]\", 'P937', 175, 954, 'Yes']], [['Is [X] where [W] is employed? the answer is: [Y]', 'P937', 174, 954, 'Yes']], [['Is [X] where [W] was employed? the answer is: [Y]', 'P937', 201, 954, 'Yes']], [['Was [W] employed in [X]? the answer is: [Y]', 'P937', 141, 954, 'Yes']], [[\"Was [X] [W]'s employment location? the answer is: [Y]\", 'P937', 7, 954, 'Yes']], [[\"Was [X] [W]'s location of employment? the answer is: [Y]\", 'P937', 9, 954, 'Yes']], [[\"Was [X] [W]'s work location? the answer is: [Y]\", 'P937', 22, 954, 'Yes']]], 'P39': [[['Did [W] have the [X] position? the answer is: [Y]', 'P39', 2, 892, 'Yes']], [['Did [W] have the [X] role? the answer is: [Y]', 'P39', 7, 892, 'Yes']], [['Did [W] have the official [X] position? the answer is: [Y]', 'P39', 0, 892, 'Yes']], [['Did [W] have the official [X] role? the answer is: [Y]', 'P39', 3, 892, 'Yes']], [['Did [W] have the official position of [X]? the answer is: [Y]', 'P39', 8, 892, 'Yes']], [['Did [W] have the official role of [X]? the answer is: [Y]', 'P39', 10, 892, 'Yes']], [['Did [W] have the position of [X]? the answer is: [Y]', 'P39', 15, 892, 'Yes']], [['Did [W] have the public [X] position? the answer is: [Y]', 'P39', 1, 892, 'Yes']], [['Did [W] have the public [X] role? the answer is: [Y]', 'P39', 8, 892, 'Yes']], [['Did [W] have the public position of [X]? the answer is: [Y]', 'P39', 13, 892, 'Yes']], [['Did [W] have the public role of [X]? the answer is: [Y]', 'P39', 36, 892, 'Yes']], [['Did [W] have the role of [X]? the answer is: [Y]', 'P39', 26, 892, 'Yes']], [['Did [W] hold the [X] position? the answer is: [Y]', 'P39', 10, 892, 'Yes']], [['Did [W] hold the [X] role? the answer is: [Y]', 'P39', 17, 892, 'Yes']], [['Did [W] hold the official [X] position? the answer is: [Y]', 'P39', 6, 892, 'Yes']], [['Did [W] hold the official [X] role? the answer is: [Y]', 'P39', 9, 892, 'Yes']], [['Did [W] hold the official position of [X]? the answer is: [Y]', 'P39', 25, 892, 'Yes']], [['Did [W] hold the official role of [X]? the answer is: [Y]', 'P39', 27, 892, 'Yes']], [['Did [W] hold the position of [X]? the answer is: [Y]', 'P39', 51, 892, 'Yes']], [['Did [W] hold the public [X] position? the answer is: [Y]', 'P39', 7, 892, 'Yes']], [['Did [W] hold the public [X] role? the answer is: [Y]', 'P39', 18, 892, 'Yes']], [['Did [W] hold the public position of [X]? the answer is: [Y]', 'P39', 20, 892, 'Yes']], [['Did [W] hold the public role of [X]? the answer is: [Y]', 'P39', 44, 892, 'Yes']], [['Did [W] hold the role of [X]? the answer is: [Y]', 'P39', 62, 892, 'Yes']], [['Did [W] officially hold the [X] position? the answer is: [Y]', 'P39', 6, 892, 'Yes']], [['Did [W] officially hold the [X] role? the answer is: [Y]', 'P39', 12, 892, 'Yes']], [['Did [W] officially hold the position of [X]? the answer is: [Y]', 'P39', 29, 892, 'Yes']], [['Did [W] officially hold the public [X] position? the answer is: [Y]', 'P39', 5, 892, 'Yes']], [['Did [W] officially hold the public [X] role? the answer is: [Y]', 'P39', 11, 892, 'Yes']], [['Did [W] officially hold the public position of [X]? the answer is: [Y]', 'P39', 18, 892, 'Yes']], [['Did [W] officially hold the public role of [X]? the answer is: [Y]', 'P39', 21, 892, 'Yes']], [['Did [W] officially hold the role of [X]? the answer is: [Y]', 'P39', 41, 892, 'Yes']], [['Does [W] have the [X] position? the answer is: [Y]', 'P39', 0, 892, 'Yes']], [['Does [W] have the [X] role? the answer is: [Y]', 'P39', 1, 892, 'Yes']], [['Does [W] have the official [X] position? the answer is: [Y]', 'P39', 0, 892, 'Yes']], [['Does [W] have the official [X] role? the answer is: [Y]', 'P39', 0, 892, 'Yes']], [['Does [W] have the official position of [X]? the answer is: [Y]', 'P39', 4, 892, 'Yes']], [['Does [W] have the official role of [X]? the answer is: [Y]', 'P39', 4, 892, 'Yes']], [['Does [W] have the position of [X]? the answer is: [Y]', 'P39', 7, 892, 'Yes']], [['Does [W] have the public [X] position? the answer is: [Y]', 'P39', 1, 892, 'Yes']], [['Does [W] have the public [X] role? the answer is: [Y]', 'P39', 2, 892, 'Yes']], [['Does [W] have the public position of [X]? the answer is: [Y]', 'P39', 7, 892, 'Yes']], [['Does [W] have the public role of [X]? the answer is: [Y]', 'P39', 10, 892, 'Yes']], [['Does [W] have the role of [X]? the answer is: [Y]', 'P39', 18, 892, 'Yes']], [['Does [W] hold the [X] position? the answer is: [Y]', 'P39', 1, 892, 'Yes']], [['Does [W] hold the [X] role? the answer is: [Y]', 'P39', 2, 892, 'Yes']], [['Does [W] hold the official [X] position? the answer is: [Y]', 'P39', 0, 892, 'Yes']], [['Does [W] hold the official [X] role? the answer is: [Y]', 'P39', 0, 892, 'Yes']], [['Does [W] hold the official position of [X]? the answer is: [Y]', 'P39', 2, 892, 'Yes']], [['Does [W] hold the official role of [X]? the answer is: [Y]', 'P39', 3, 892, 'Yes']], [['Does [W] hold the position of [X]? the answer is: [Y]', 'P39', 7, 892, 'Yes']], [['Does [W] hold the public [X] position? the answer is: [Y]', 'P39', 1, 892, 'Yes']], [['Does [W] hold the public [X] role? the answer is: [Y]', 'P39', 1, 892, 'Yes']], [['Does [W] hold the public position of [X]? the answer is: [Y]', 'P39', 2, 892, 'Yes']], [['Does [W] hold the public role of [X]? the answer is: [Y]', 'P39', 6, 892, 'Yes']], [['Does [W] hold the role of [X]? the answer is: [Y]', 'P39', 14, 892, 'Yes']], [['Does [W] officially hold the [X] position? the answer is: [Y]', 'P39', 1, 892, 'Yes']], [['Does [W] officially hold the [X] role? the answer is: [Y]', 'P39', 2, 892, 'Yes']], [['Does [W] officially hold the position of [X]? the answer is: [Y]', 'P39', 13, 892, 'Yes']], [['Does [W] officially hold the public [X] position? the answer is: [Y]', 'P39', 1, 892, 'Yes']], [['Does [W] officially hold the public [X] role? the answer is: [Y]', 'P39', 2, 892, 'Yes']], [['Does [W] officially hold the public position of [X]? the answer is: [Y]', 'P39', 5, 892, 'Yes']], [['Does [W] officially hold the public role of [X]? the answer is: [Y]', 'P39', 7, 892, 'Yes']], [['Does [W] officially hold the role of [X]? the answer is: [Y]', 'P39', 13, 892, 'Yes']], [[\"Is [W]'s official position [X]? the answer is: [Y]\", 'P39', 5, 892, 'Yes']], [[\"Is [W]'s official position that of [X]? the answer is: [Y]\", 'P39', 0, 892, 'Yes']], [[\"Is [W]'s official role [X]? the answer is: [Y]\", 'P39', 8, 892, 'Yes']], [[\"Is [W]'s official role that of [X]? the answer is: [Y]\", 'P39', 5, 892, 'Yes']], [[\"Is [W]'s position [X]? the answer is: [Y]\", 'P39', 17, 892, 'Yes']], [[\"Is [W]'s position that of [X]? the answer is: [Y]\", 'P39', 4, 892, 'Yes']], [[\"Is [W]'s public position [X]? the answer is: [Y]\", 'P39', 13, 892, 'Yes']], [[\"Is [W]'s public position that of [X]? the answer is: [Y]\", 'P39', 1, 892, 'Yes']], [[\"Is [W]'s public role [X]? the answer is: [Y]\", 'P39', 32, 892, 'Yes']], [[\"Is [W]'s public role that of [X]? the answer is: [Y]\", 'P39', 10, 892, 'Yes']], [[\"Is [W]'s role [X]? the answer is: [Y]\", 'P39', 37, 892, 'Yes']], [[\"Is [W]'s role that of [X]? the answer is: [Y]\", 'P39', 17, 892, 'Yes']], [[\"Was [W]'s official position [X]? the answer is: [Y]\", 'P39', 7, 892, 'Yes']], [[\"Was [W]'s official position that of [X]? the answer is: [Y]\", 'P39', 0, 892, 'Yes']], [[\"Was [W]'s official role [X]? the answer is: [Y]\", 'P39', 13, 892, 'Yes']], [[\"Was [W]'s official role that of [X]? the answer is: [Y]\", 'P39', 5, 892, 'Yes']], [[\"Was [W]'s position [X]? the answer is: [Y]\", 'P39', 9, 892, 'Yes']], [[\"Was [W]'s position that of [X]? the answer is: [Y]\", 'P39', 4, 892, 'Yes']], [[\"Was [W]'s public position [X]? the answer is: [Y]\", 'P39', 12, 892, 'Yes']], [[\"Was [W]'s public position that of [X]? the answer is: [Y]\", 'P39', 3, 892, 'Yes']], [[\"Was [W]'s public role [X]? the answer is: [Y]\", 'P39', 28, 892, 'Yes']], [[\"Was [W]'s public role that of [X]? the answer is: [Y]\", 'P39', 12, 892, 'Yes']], [[\"Was [W]'s role [X]? the answer is: [Y]\", 'P39', 25, 892, 'Yes']], [[\"Was [W]'s role that of [X]? the answer is: [Y]\", 'P39', 8, 892, 'Yes']]], 'P740': [[['Did [W] form in [X]? the answer is: [Y]', 'P740', 731, 936, 'Yes']], [['Did [W] originate in [X]? the answer is: [Y]', 'P740', 709, 936, 'Yes']], [['Did [W] start in [X]? the answer is: [Y]', 'P740', 524, 936, 'Yes']], [['Was [W] created in [X]? the answer is: [Y]', 'P740', 216, 936, 'Yes']], [['Was [W] formed in [X]? the answer is: [Y]', 'P740', 444, 936, 'Yes']], [['Was [W] founded in [X]? the answer is: [Y]', 'P740', 455, 936, 'Yes']], [['Was [W] started in [X]? the answer is: [Y]', 'P740', 538, 936, 'Yes']]], 'P279': [[['Does [W] belong to the [X] category? the answer is: [Y]', 'P279', 31, 964, 'Yes']], [['Does [W] have class [X]? the answer is: [Y]', 'P279', 21, 964, 'Yes']], [['Is [W] a [X]? the answer is: [Y]', 'P279', 175, 964, 'Yes']], [['Is [W] a kind of [X]? the answer is: [Y]', 'P279', 401, 964, 'Yes']], [['Is [W] a subclass of [X]? the answer is: [Y]', 'P279', 67, 964, 'Yes']], [['Is [W] a type of [X]? the answer is: [Y]', 'P279', 460, 964, 'Yes']], [['Is [W] of class [X]? the answer is: [Y]', 'P279', 470, 964, 'Yes']], [['Is [X] the class of [W]? the answer is: [Y]', 'P279', 277, 964, 'Yes']]], 'P30': [[['Does [W] belong to continent [X]? the answer is: [Y]', 'P30', 3, 975, 'Yes']], [['Does [W] belong to the continent of [X]? the answer is: [Y]', 'P30', 21, 975, 'Yes']], [['Is [W] a part of continent [X]? the answer is: [Y]', 'P30', 123, 975, 'Yes']], [['Is [W] a part of the continent [X]? the answer is: [Y]', 'P30', 11, 975, 'Yes']], [['Is [W] a part of the continent of [X]? the answer is: [Y]', 'P30', 100, 975, 'Yes']], [['Is [W] located in [X]? the answer is: [Y]', 'P30', 320, 975, 'Yes']], [['Is [W] located in continent [X]? the answer is: [Y]', 'P30', 93, 975, 'Yes']], [['Is [W] located in the [X] continent? the answer is: [Y]', 'P30', 328, 975, 'Yes']], [['Is [W] located in the continent [X]? the answer is: [Y]', 'P30', 64, 975, 'Yes']], [['Is [W] part of the [X] continent? the answer is: [Y]', 'P30', 142, 975, 'Yes']], [[\"Is [X] [W]'s continent? the answer is: [Y]\", 'P30', 56, 975, 'Yes']], [['Is [X] the continent of [W]? the answer is: [Y]', 'P30', 288, 975, 'Yes']]], 'P495': [[['Did [W] come from [X]? the answer is: [Y]', 'P495', 116, 909, 'Yes']], [['Did [W] form in [X]? the answer is: [Y]', 'P495', 446, 909, 'Yes']], [['Did [W] originate in [X]? the answer is: [Y]', 'P495', 297, 909, 'Yes']], [['Does [W] come from [X]? the answer is: [Y]', 'P495', 32, 909, 'Yes']], [['Does [W] originate in [X]? the answer is: [Y]', 'P495', 267, 909, 'Yes']], [['Is [W] formulated in [X]? the answer is: [Y]', 'P495', 275, 909, 'Yes']], [['Is [W] from [X]? the answer is: [Y]', 'P495', 462, 909, 'Yes']], [[\"Is [X] [W]'s original country? the answer is: [Y]\", 'P495', 55, 909, 'Yes']], [['Is [X] the original country of [W]? the answer is: [Y]', 'P495', 99, 909, 'Yes']], [['Was [W] created in [X]? the answer is: [Y]', 'P495', 65, 909, 'Yes']], [['Was [W] developed in [X]? the answer is: [Y]', 'P495', 86, 909, 'Yes']], [['Was [W] first created in [X]? the answer is: [Y]', 'P495', 172, 909, 'Yes']], [['Was [W] first made in [X]? the answer is: [Y]', 'P495', 123, 909, 'Yes']], [['Was [W] first produced in [X]? the answer is: [Y]', 'P495', 142, 909, 'Yes']], [['Was [W] formed in [X]? the answer is: [Y]', 'P495', 179, 909, 'Yes']], [['Was [W] formulated in [X]? the answer is: [Y]', 'P495', 113, 909, 'Yes']], [['Was [W] from [X]? the answer is: [Y]', 'P495', 262, 909, 'Yes']]], 'P103': [[['Does [W] speak [X] as a mother tongue? the answer is: [Y]', 'P103', 542, 977, 'Yes']], [['Does [W] speak [X] as a native language? the answer is: [Y]', 'P103', 474, 977, 'Yes']], [[\"Is [X] [W]'s mother tongue? the answer is: [Y]\", 'P103', 226, 977, 'Yes']], [[\"Is [X] [W]'s native language? the answer is: [Y]\", 'P103', 218, 977, 'Yes']]], 'P364': [[['Is [X] the language of [W]? the answer is: [Y]', 'P364', 573, 856, 'Yes']], [['Is [X] the original language of [W]? the answer is: [Y]', 'P364', 287, 856, 'Yes']], [['Was [W] originally performed in [X]? the answer is: [Y]', 'P364', 391, 856, 'Yes']], [['Was [W] originally performed in language [X]? the answer is: [Y]', 'P364', 371, 856, 'Yes']], [['Was [W] originally performed in the [X] language? the answer is: [Y]', 'P364', 517, 856, 'Yes']], [['Was [W] originally performed in the following language: [X]? the answer is: [Y]', 'P364', 679, 856, 'Yes']], [['Was [W] originally played in [X]? the answer is: [Y]', 'P364', 308, 856, 'Yes']], [['Was [W] originally played in language [X]? the answer is: [Y]', 'P364', 288, 856, 'Yes']], [['Was [W] originally played in the [X] language? the answer is: [Y]', 'P364', 420, 856, 'Yes']], [['Was [W] originally played in the following language: [X]? the answer is: [Y]', 'P364', 602, 856, 'Yes']], [['Was [X] the language of [W]? the answer is: [Y]', 'P364', 409, 856, 'Yes']], [['Was [X] the original language of [W]? the answer is: [Y]', 'P364', 263, 856, 'Yes']]], 'P19': [[['Did [W] originate from [X]? the answer is: [Y]', 'P19', 616, 944, 'Yes']], [['Does [W] originate from [X]? the answer is: [Y]', 'P19', 655, 944, 'Yes']], [['Is [W] a [X]-born person? the answer is: [Y]', 'P19', 406, 944, 'Yes']], [['Is [W] an [X]-born person? the answer is: [Y]', 'P19', 247, 944, 'Yes']], [['Is [W] native to [X]? the answer is: [Y]', 'P19', 637, 944, 'Yes']], [['Is [W] originally from [X]? the answer is: [Y]', 'P19', 884, 944, 'Yes']], [[\"Is [X] [W]'s birthplace? the answer is: [Y]\", 'P19', 614, 944, 'Yes']], [[\"Is [X] [W]'s place of birth? the answer is: [Y]\", 'P19', 160, 944, 'Yes']], [['Was [W] a [X]-born person? the answer is: [Y]', 'P19', 144, 944, 'Yes']], [['Was [W] an [X]-born person? the answer is: [Y]', 'P19', 96, 944, 'Yes']], [['Was [W] born in [X]? the answer is: [Y]', 'P19', 407, 944, 'Yes']], [['Was [W] native to [X]? the answer is: [Y]', 'P19', 549, 944, 'Yes']], [['Was [W] originally from [X]? the answer is: [Y]', 'P19', 599, 944, 'Yes']], [[\"Was [X] [W]'s birthplace? the answer is: [Y]\", 'P19', 288, 944, 'Yes']], [[\"Was [X] [W]'s place of birth? the answer is: [Y]\", 'P19', 152, 944, 'Yes']]], 'P20': [[['Did [W] die at [X]? the answer is: [Y]', 'P20', 214, 953, 'Yes']], [['Did [W] die in [X]? the answer is: [Y]', 'P20', 281, 953, 'Yes']], [['Did [W] expire at [X]? the answer is: [Y]', 'P20', 124, 953, 'Yes']], [['Did [W] expire in [X]? the answer is: [Y]', 'P20', 296, 953, 'Yes']], [['Did [W] lose their life at [X]? the answer is: [Y]', 'P20', 66, 953, 'Yes']], [['Did [W] lose their life in [X]? the answer is: [Y]', 'P20', 66, 953, 'Yes']], [['Did [W] pass away at [X]? the answer is: [Y]', 'P20', 400, 953, 'Yes']], [['Did [W] pass away in [X]? the answer is: [Y]', 'P20', 621, 953, 'Yes']], [['Did [W] succumb at [X]? the answer is: [Y]', 'P20', 42, 953, 'Yes']], [['Did [W] succumb in [X]? the answer is: [Y]', 'P20', 50, 953, 'Yes']], [[\"Did [W]'s life end at [X]? the answer is: [Y]\", 'P20', 197, 953, 'Yes']], [[\"Did [W]'s life end in [X]? the answer is: [Y]\", 'P20', 319, 953, 'Yes']], [[\"Is [X] [W]'s death location? the answer is: [Y]\", 'P20', 64, 953, 'Yes']], [[\"Is [X] [W]'s death place? the answer is: [Y]\", 'P20', 125, 953, 'Yes']], [[\"Is [X] [W]'s place of death? the answer is: [Y]\", 'P20', 52, 953, 'Yes']], [[\"Was [X] [W]'s death location? the answer is: [Y]\", 'P20', 49, 953, 'Yes']], [[\"Was [X] [W]'s death place? the answer P20is: [Y]\", '', 61, 953, 'Yes']], [[\"Was [X] [W]'s place of death? the answer is: [Y]\", 'P20', 49, 953, 'Yes']]]}"
   ]
  },
  {
   "cell_type": "code",
   "execution_count": 16,
   "id": "34d3c930",
   "metadata": {},
   "outputs": [],
   "source": [
    "# the answer is\n",
    "#final_no_the_answer_is = {'P108': [[['Does [W] work for [X]? the answer is: [Y]', 'P108', 256, 383, 'No']], [['Is [W] employed by [X]? the answer is: [Y]', 'P108', 371, 383, 'No']]], 'P937': [[['Did [W] find employment in [X]? the answer is: [Y]', 'P937', 699, 954, 'No']], [['Did [W] take up work in [X]? the answer is: [Y]', 'P937', 421, 954, 'No']], [['Did [W] use to work in [X]? the answer is: [Y]', 'P937', 751, 954, 'No']], [['Did [W] work in [X]? the answer is: [Y]', 'P937', 534, 954, 'No']], [['Does [W] work in [X]? the answer is: [Y]', 'P937', 554, 954, 'No']], [['Is [W] employed in [X]? the answer is: [Y]', 'P937', 872, 954, 'No']], [[\"Is [X] [W]'s employment location? the answer is: [Y]\", 'P937', 944, 954, 'No']], [[\"Is [X] [W]'s location of employment? the answer is: [Y]\", 'P937', 930, 954, 'No']], [[\"Is [X] [W]'s work location? the answer is: [Y]\", 'P937', 721, 954, 'No']], [['Is [X] where [W] is employed? the answer is: [Y]', 'P937', 677, 954, 'No']], [['Is [X] where [W] was employed? the answer is: [Y]', 'P937', 658, 954, 'No']], [['Was [W] employed in [X]? the answer is: [Y]', 'P937', 806, 954, 'No']], [[\"Was [X] [W]'s employment location? the answer is: [Y]\", 'P937', 940, 954, 'No']], [[\"Was [X] [W]'s location of employment? the answer is: [Y]\", 'P937', 934, 954, 'No']], [[\"Was [X] [W]'s work location? the answer is: [Y]\", 'P937', 907, 954, 'No']]], 'P39': [[['Did [W] have the [X] position? the answer is: [Y]', 'P39', 889, 892, 'No']], [['Did [W] have the [X] role? the answer is: [Y]', 'P39', 885, 892, 'No']], [['Did [W] have the official [X] position? the answer is: [Y]', 'P39', 892, 892, 'No']], [['Did [W] have the official [X] role? the answer is: [Y]', 'P39', 891, 892, 'No']], [['Did [W] have the official position of [X]? the answer is: [Y]', 'P39', 883, 892, 'No']], [['Did [W] have the official role of [X]? the answer is: [Y]', 'P39', 871, 892, 'No']], [['Did [W] have the position of [X]? the answer is: [Y]', 'P39', 863, 892, 'No']], [['Did [W] have the public [X] position? the answer is: [Y]', 'P39', 892, 892, 'No']], [['Did [W] have the public [X] role? the answer is: [Y]', 'P39', 884, 892, 'No']], [['Did [W] have the public position of [X]? the answer is: [Y]', 'P39', 871, 892, 'No']], [['Did [W] have the public role of [X]? the answer is: [Y]', 'P39', 827, 892, 'No']], [['Did [W] have the role of [X]? the answer is: [Y]', 'P39', 832, 892, 'No']], [['Did [W] hold the [X] position? the answer is: [Y]', 'P39', 878, 892, 'No']], [['Did [W] hold the [X] role? the answer is: [Y]', 'P39', 863, 892, 'No']], [['Did [W] hold the official [X] position? the answer is: [Y]', 'P39', 887, 892, 'No']], [['Did [W] hold the official [X] role? the answer is: [Y]', 'P39', 881, 892, 'No']], [['Did [W] hold the official position of [X]? the answer is: [Y]', 'P39', 848, 892, 'No']], [['Did [W] hold the official role of [X]? the answer is: [Y]', 'P39', 830, 892, 'No']], [['Did [W] hold the position of [X]? the answer is: [Y]', 'P39', 819, 892, 'No']], [['Did [W] hold the public [X] position? the answer is: [Y]', 'P39', 883, 892, 'No']], [['Did [W] hold the public [X] role? the answer is: [Y]', 'P39', 877, 892, 'No']], [['Did [W] hold the public position of [X]? the answer is: [Y]', 'P39', 856, 892, 'No']], [['Did [W] hold the public role of [X]? the answer is: [Y]', 'P39', 797, 892, 'No']], [['Did [W] hold the role of [X]? the answer is: [Y]', 'P39', 738, 892, 'No']], [['Did [W] officially hold the [X] position? the answer is: [Y]', 'P39', 889, 892, 'No']], [['Did [W] officially hold the [X] role? the answer is: [Y]', 'P39', 875, 892, 'No']], [['Did [W] officially hold the position of [X]? the answer is: [Y]', 'P39', 846, 892, 'No']], [['Did [W] officially hold the public [X] position? the answer is: [Y]', 'P39', 887, 892, 'No']], [['Did [W] officially hold the public [X] role? the answer is: [Y]', 'P39', 876, 892, 'No']], [['Did [W] officially hold the public position of [X]? the answer is: [Y]', 'P39', 862, 892, 'No']], [['Did [W] officially hold the public role of [X]? the answer is: [Y]', 'P39', 840, 892, 'No']], [['Did [W] officially hold the role of [X]? the answer is: [Y]', 'P39', 813, 892, 'No']], [['Does [W] have the [X] position? the answer is: [Y]', 'P39', 892, 892, 'No']], [['Does [W] have the [X] role? the answer is: [Y]', 'P39', 891, 892, 'No']], [['Does [W] have the official [X] position? the answer is: [Y]', 'P39', 892, 892, 'No']], [['Does [W] have the official [X] role? the answer is: [Y]', 'P39', 891, 892, 'No']], [['Does [W] have the official position of [X]? the answer is: [Y]', 'P39', 891, 892, 'No']], [['Does [W] have the official role of [X]? the answer is: [Y]', 'P39', 883, 892, 'No']], [['Does [W] have the position of [X]? the answer is: [Y]', 'P39', 876, 892, 'No']], [['Does [W] have the public [X] position? the answer is: [Y]', 'P39', 892, 892, 'No']], [['Does [W] have the public [X] role? the answer is: [Y]', 'P39', 891, 892, 'No']], [['Does [W] have the public position of [X]? the answer is: [Y]', 'P39', 878, 892, 'No']], [['Does [W] have the public role of [X]? the answer is: [Y]', 'P39', 863, 892, 'No']], [['Does [W] have the role of [X]? the answer is: [Y]', 'P39', 819, 892, 'No']], [['Does [W] hold the [X] position? the answer is: [Y]', 'P39', 891, 892, 'No']], [['Does [W] hold the [X] role? the answer is: [Y]', 'P39', 892, 892, 'No']], [['Does [W] hold the official [X] position? the answer is: [Y]', 'P39', 892, 892, 'No']], [['Does [W] hold the official [X] role? the answer is: [Y]', 'P39', 891, 892, 'No']], [['Does [W] hold the official position of [X]? the answer is: [Y]', 'P39', 890, 892, 'No']], [['Does [W] hold the official role of [X]? the answer is: [Y]', 'P39', 887, 892, 'No']], [['Does [W] hold the position of [X]? the answer is: [Y]', 'P39', 865, 892, 'No']], [['Does [W] hold the public [X] position? the answer is: [Y]', 'P39', 892, 892, 'No']], [['Does [W] hold the public [X] role? the answer is: [Y]', 'P39', 890, 892, 'No']], [['Does [W] hold the public position of [X]? the answer is: [Y]', 'P39', 887, 892, 'No']], [['Does [W] hold the public role of [X]? the answer is: [Y]', 'P39', 883, 892, 'No']], [['Does [W] hold the role of [X]? the answer is: [Y]', 'P39', 841, 892, 'No']], [['Does [W] officially hold the [X] position? the answer is: [Y]', 'P39', 889, 892, 'No']], [['Does [W] officially hold the [X] role? the answer is: [Y]', 'P39', 888, 892, 'No']], [['Does [W] officially hold the position of [X]? the answer is: [Y]', 'P39', 874, 892, 'No']], [['Does [W] officially hold the public [X] position? the answer is: [Y]', 'P39', 890, 892, 'No']], [['Does [W] officially hold the public [X] role? the answer is: [Y]', 'P39', 888, 892, 'No']], [['Does [W] officially hold the public position of [X]? the answer is: [Y]', 'P39', 881, 892, 'No']], [['Does [W] officially hold the public role of [X]? the answer is: [Y]', 'P39', 878, 892, 'No']], [['Does [W] officially hold the role of [X]? the answer is: [Y]', 'P39', 853, 892, 'No']], [[\"Is [W]'s official position [X]? the answer is: [Y]\", 'P39', 888, 892, 'No']], [[\"Is [W]'s official position that of [X]? the answer is: [Y]\", 'P39', 891, 892, 'No']], [[\"Is [W]'s official role [X]? the answer is: [Y]\", 'P39', 884, 892, 'No']], [[\"Is [W]'s official role that of [X]? the answer is: [Y]\", 'P39', 887, 892, 'No']], [[\"Is [W]'s position [X]? the answer is: [Y]\", 'P39', 860, 892, 'No']], [[\"Is [W]'s position that of [X]? the answer is: [Y]\", 'P39', 882, 892, 'No']], [[\"Is [W]'s public position [X]? the answer is: [Y]\", 'P39', 860, 892, 'No']], [[\"Is [W]'s public position that of [X]? the answer is: [Y]\", 'P39', 889, 892, 'No']], [[\"Is [W]'s public role [X]? the answer is: [Y]\", 'P39', 827, 892, 'No']], [[\"Is [W]'s public role that of [X]? the answer is: [Y]\", 'P39', 869, 892, 'No']], [[\"Is [W]'s role [X]? the answer is: [Y]\", 'P39', 835, 892, 'No']], [[\"Is [W]'s role that of [X]? the answer is: [Y]\", 'P39', 857, 892, 'No']], [[\"Was [W]'s official position [X]? the answer is: [Y]\", 'P39', 886, 892, 'No']], [[\"Was [W]'s official position that of [X]? the answer is: [Y]\", 'P39', 891, 892, 'No']], [[\"Was [W]'s official role [X]? the answer is: [Y]\", 'P39', 870, 892, 'No']], [[\"Was [W]'s official role that of [X]? the answer is: [Y]\", 'P39', 882, 892, 'No']], [[\"Was [W]'s position [X]? the answer is: [Y]\", 'P39', 866, 892, 'No']], [[\"Was [W]'s position that of [X]? the answer is: [Y]\", 'P39', 886, 892, 'No']], [[\"Was [W]'s public position [X]? the answer is: [Y]\", 'P39', 868, 892, 'No']], [[\"Was [W]'s public position that of [X]? the answer is: [Y]\", 'P39', 888, 892, 'No']], [[\"Was [W]'s public role [X]? the answer is: [Y]\", 'P39', 821, 892, 'No']], [[\"Was [W]'s public role that of [X]? the answer is: [Y]\", 'P39', 878, 892, 'No']], [[\"Was [W]'s role [X]? the answer is: [Y]\", 'P39', 843, 892, 'No']], [[\"Was [W]'s role that of [X]? the answer is: [Y]\", 'P39', 874, 892, 'No']]], 'P740': [[['Did [W] form in [X]? the answer is: [Y]', 'P740', 254, 936, 'No']], [['Did [W] originate in [X]? the answer is: [Y]', 'P740', 236, 936, 'No']], [['Did [W] start in [X]? the answer is: [Y]', 'P740', 443, 936, 'No']], [['Was [W] created in [X]? the answer is: [Y]', 'P740', 741, 936, 'No']], [['Was [W] formed in [X]? the answer is: [Y]', 'P740', 525, 936, 'No']], [['Was [W] founded in [X]? the answer is: [Y]', 'P740', 502, 936, 'No']], [['Was [W] started in [X]? the answer is: [Y]', 'P740', 455, 936, 'No']]], 'P279': [[['Does [W] belong to the [X] category? the answer is: [Y]', 'P279', 941, 964, 'No']], [['Does [W] have class [X]? the answer is: [Y]', 'P279', 922, 964, 'No']], [['Is [W] a [X]? the answer is: [Y]', 'P279', 816, 964, 'No']], [['Is [W] a kind of [X]? the answer is: [Y]', 'P279', 569, 964, 'No']], [['Is [W] a subclass of [X]? the answer is: [Y]', 'P279', 908, 964, 'No']], [['Is [W] a type of [X]? the answer is: [Y]', 'P279', 552, 964, 'No']], [['Is [W] of class [X]? the answer is: [Y]', 'P279', 537, 964, 'No']], [['Is [X] the class of [W]? the answer is: [Y]', 'P279', 678, 964, 'No']]], 'P30': [[['Does [W] belong to continent [X]? the answer is: [Y]', 'P30', 974, 975, 'No']], [['Does [W] belong to the continent of [X]? the answer is: [Y]', 'P30', 956, 975, 'No']], [['Is [W] a part of continent [X]? the answer is: [Y]', 'P30', 932, 975, 'No']], [['Is [W] a part of the continent [X]? the answer is: [Y]', 'P30', 967, 975, 'No']], [['Is [W] a part of the continent of [X]? the answer is: [Y]', 'P30', 860, 975, 'No']], [['Is [W] located in [X]? the answer is: [Y]', 'P30', 795, 975, 'No']], [['Is [W] located in continent [X]? the answer is: [Y]', 'P30', 906, 975, 'No']], [['Is [W] located in the [X] continent? the answer is: [Y]', 'P30', 670, 975, 'No']], [['Is [W] located in the continent [X]? the answer is: [Y]', 'P30', 887, 975, 'No']], [['Is [W] part of the [X] continent? the answer is: [Y]', 'P30', 814, 975, 'No']], [[\"Is [X] [W]'s continent? the answer is: [Y]\", 'P30', 938, 975, 'No']], [['Is [X] the continent of [W]? the answer is: [Y]', 'P30', 688, 975, 'No']]], 'P495': [[['Did [W] come from [X]? the answer is: [Y]', 'P495', 744, 909, 'No']], [['Did [W] form in [X]? the answer is: [Y]', 'P495', 392, 909, 'No']], [['Did [W] originate in [X]? the answer is: [Y]', 'P495', 536, 909, 'No']], [['Does [W] come from [X]? the answer is: [Y]', 'P495', 856, 909, 'No']], [['Does [W] originate in [X]? the answer is: [Y]', 'P495', 565, 909, 'No']], [['Is [W] formulated in [X]? the answer is: [Y]', 'P495', 521, 909, 'No']], [['Is [W] from [X]? the answer is: [Y]', 'P495', 338, 909, 'No']], [[\"Is [X] [W]'s original country? the answer is: [Y]\", 'P495', 889, 909, 'No']], [['Is [X] the original country of [W]? the answer is: [Y]', 'P495', 770, 909, 'No']], [['Was [W] created in [X]? the answer is: [Y]', 'P495', 849, 909, 'No']], [['Was [W] developed in [X]? the answer is: [Y]', 'P495', 820, 909, 'No']], [['Was [W] first created in [X]? the answer is: [Y]', 'P495', 743, 909, 'No']], [['Was [W] first made in [X]? the answer is: [Y]', 'P495', 805, 909, 'No']], [['Was [W] first produced in [X]? the answer is: [Y]', 'P495', 767, 909, 'No']], [['Was [W] formed in [X]? the answer is: [Y]', 'P495', 703, 909, 'No']], [['Was [W] formulated in [X]? the answer is: [Y]', 'P495', 749, 909, 'No']], [['Was [W] from [X]? the answer is: [Y]', 'P495', 591, 909, 'No']]], 'P103': [[['Does [W] speak [X] as a mother tongue? the answer is: [Y]', 'P103', 382, 977, 'No']], [['Does [W] speak [X] as a native language? the answer is: [Y]', 'P103', 394, 977, 'No']], [[\"Is [X] [W]'s mother tongue? the answer is: [Y]\", 'P103', 521, 977, 'No']], [[\"Is [X] [W]'s native language? the answer is: [Y]\", 'P103', 505, 977, 'No']]], 'P364': [[['Is [X] the language of [W]? the answer is: [Y]', 'P364', 191, 856, 'No']], [['Is [X] the original language of [W]? the answer is: [Y]', 'P364', 437, 856, 'No']], [['Was [W] originally performed in [X]? the answer is: [Y]', 'P364', 358, 856, 'No']], [['Was [W] originally performed in language [X]? the answer is: [Y]', 'P364', 475, 856, 'No']], [['Was [W] originally performed in the [X] language? the answer is: [Y]', 'P364', 193, 856, 'No']], [['Was [W] originally performed in the following language: [X]? the answer is: [Y]', 'P364', 108, 856, 'No']], [['Was [W] originally played in [X]? the answer is: [Y]', 'P364', 521, 856, 'No']], [['Was [W] originally played in language [X]? the answer is: [Y]', 'P364', 557, 856, 'No']], [['Was [W] originally played in the [X] language? the answer is: [Y]', 'P364', 319, 856, 'No']], [['Was [W] originally played in the following language: [X]? the answer is: [Y]', 'P364', 153, 856, 'No']], [['Was [X] the language of [W]? the answer is: [Y]', 'P364', 349, 856, 'No']], [['Was [X] the original language of [W]? the answer is: [Y]', 'P364', 524, 856, 'No']]], 'P19': [[['Did [W] originate from [X]? the answer is: [Y]', 'P19', 324, 944, 'No']], [['Does [W] originate from [X]? the answer is: [Y]', 'P19', 262, 944, 'No']], [['Is [W] a [X]-born person? the answer is: [Y]', 'P19', 495, 944, 'No']], [['Is [W] an [X]-born person? the answer is: [Y]', 'P19', 673, 944, 'No']], [['Is [W] native to [X]? the answer is: [Y]', 'P19', 231, 944, 'No']], [['Is [W] originally from [X]? the answer is: [Y]', 'P19', 48, 944, 'No']], [[\"Is [X] [W]'s birthplace? the answer is: [Y]\", 'P19', 223, 944, 'No']], [[\"Is [X] [W]'s place of birth? the answer is: [Y]\", 'P19', 734, 944, 'No']], [['Was [W] a [X]-born person? the answer is: [Y]', 'P19', 773, 944, 'No']], [['Was [W] an [X]-born person? the answer is: [Y]', 'P19', 820, 944, 'No']], [['Was [W] born in [X]? the answer is: [Y]', 'P19', 474, 944, 'No']], [['Was [W] native to [X]? the answer is: [Y]', 'P19', 336, 944, 'No']], [['Was [W] originally from [X]? the answer is: [Y]', 'P19', 303, 944, 'No']], [[\"Was [X] [W]'s birthplace? the answer is: [Y]\", 'P19', 554, 944, 'No']], [[\"Was [X] [W]'s place of birth? the answer is: [Y]\", 'P19', 755, 944, 'No']]], 'P20': [[['Did [W] die at [X]? the answer is: [Y]', 'P20', 725, 953, 'No']], [['Did [W] die in [X]? the answer is: [Y]', 'P20', 657, 953, 'No']], [['Did [W] expire at [X]? the answer is: [Y]', 'P20', 805, 953, 'No']], [['Did [W] expire in [X]? the answer is: [Y]', 'P20', 644, 953, 'No']], [['Did [W] lose their life at [X]? the answer is: [Y]', 'P20', 884, 953, 'No']], [['Did [W] lose their life in [X]? the answer is: [Y]', 'P20', 884, 953, 'No']], [['Did [W] pass away at [X]? the answer is: [Y]', 'P20', 550, 953, 'No']], [['Did [W] pass away in [X]? the answer is: [Y]', 'P20', 368, 953, 'No']], [['Did [W] succumb at [X]? the answer is: [Y]', 'P20', 890, 953, 'No']], [['Did [W] succumb in [X]? the answer is: [Y]', 'P20', 891, 953, 'No']], [[\"Did [W]'s life end at [X]? the answer is: [Y]\", 'P20', 700, 953, 'No']], [[\"Did [W]'s life end in [X]? the answer is: [Y]\", 'P20', 630, 953, 'No']], [[\"Is [X] [W]'s death location? the answer is: [Y]\", 'P20', 863, 953, 'No']], [[\"Is [X] [W]'s death place? the answer is: [Y]\", 'P20', 804, 953, 'No']], [[\"Is [X] [W]'s place of death? the answer is: [Y]\", 'P20', 890, 953, 'No']], [[\"Was [X] [W]'s death location? the answer is: [Y]\", 'P20', 896, 953, 'No']], [[\"Was [X] [W]'s death place? the answer is: [Y]\", 'P20', 880, 953, 'No']], [[\"Was [X] [W]'s place of death? the answer is: [Y]\", 'P20', 907, 953, 'No']]]}"
   ]
  },
  {
   "cell_type": "code",
   "execution_count": 17,
   "id": "a5f1d761",
   "metadata": {},
   "outputs": [],
   "source": [
    "positive = \"yes\"\n",
    "negation = \"no\"\n",
    "question_ = \"The_answer_is\"\n",
    "no_question = \"False_\"+negation+\"_\" + question_\n",
    "yes_question = \"True_\"+positive+\"_\" + question_"
   ]
  },
  {
   "cell_type": "code",
   "execution_count": 18,
   "id": "beedb7d1",
   "metadata": {},
   "outputs": [
    {
     "name": "stdout",
     "output_type": "stream",
     "text": [
      "194\n",
      "DICT Q\n",
      "Does [W] speak [X] as a mother tongue? The answer is: [Y]\n",
      "//////////\n",
      "[[970, 977, 'no', 'P103']]\n",
      "//////////\n",
      "DICT Q\n",
      "Does [W] speak [X] as a native language? The answer is: [Y]\n",
      "//////////\n",
      "[[971, 977, 'no', 'P103']]\n",
      "//////////\n",
      "DICT Q\n",
      "Is [X] [W]'s mother tongue? The answer is: [Y]\n",
      "//////////\n",
      "[]\n",
      "//////////\n"
     ]
    },
    {
     "ename": "IndexError",
     "evalue": "list index out of range",
     "output_type": "error",
     "traceback": [
      "\u001b[0;31m---------------------------------------------------------------------------\u001b[0m",
      "\u001b[0;31mIndexError\u001b[0m                                Traceback (most recent call last)",
      "\u001b[0;32m/tmp/ipykernel_28392/2978135264.py\u001b[0m in \u001b[0;36m<module>\u001b[0;34m\u001b[0m\n\u001b[1;32m      2\u001b[0m \u001b[0;31m#final_no_quest = {'P108': [[['Does [W] work for [X]?  answer is: [Y]', 'P108', 382, 383, 'No']], [['Is [W] employed by [X]?  answer is: [Y]', 'P108', 383, 383, 'No']]], 'P937': [[['Did [W] find employment in [X]?  answer is: [Y]', 'P937', 954, 954, 'No']], [['Did [W] take up work in [X]?  answer is: [Y]', 'P937', 951, 954, 'No']], [['Did [W] use to work in [X]?  answer is: [Y]', 'P937', 928, 954, 'No']], [['Did [W] work in [X]?  answer is: [Y]', 'P937', 927, 954, 'No']], [['Does [W] work in [X]?  answer is: [Y]', 'P937', 954, 954, 'No']], [['Is [W] employed in [X]?  answer is: [Y]', 'P937', 954, 954, 'No']], [[\"Is [X] [W]'s employment location?  answer is: [Y]\", 'P937', 954, 954, 'No']], [[\"Is [X] [W]'s location of employment?  answer is: [Y]\", 'P937', 954, 954, 'No']], [[\"Is [X] [W]'s work location?  answer is: [Y]\", 'P937', 949, 954, 'No']], [['Is [X] where [W] is employed?  answer is: [Y]', 'P937', 950, 954, 'No']], [['Is [X] where [W] was employed?  answer is: [Y]', 'P937', 948, 954, 'No']], [['Was [W] employed in [X]?  answer is: [Y]', 'P937', 953, 954, 'No']], [[\"Was [X] [W]'s employment location?  answer is: [Y]\", 'P937', 954, 954, 'No']], [[\"Was [X] [W]'s location of employment?  answer is: [Y]\", 'P937', 954, 954, 'No']], [[\"Was [X] [W]'s work location?  answer is: [Y]\", 'P937', 953, 954, 'No']]], 'P39': [[['Did [W] have the [X] position?  answer is: [Y]', 'P39', 891, 892, 'No']], [['Did [W] have the [X] role?  answer is: [Y]', 'P39', 891, 892, 'No']], [['Did [W] have the official [X] position?  answer is: [Y]', 'P39', 892, 892, 'No']], [['Did [W] have the official [X] role?  answer is: [Y]', 'P39', 892, 892, 'No']], [['Did [W] have the official position of [X]?  answer is: [Y]', 'P39', 889, 892, 'No']], [['Did [W] have the official role of [X]?  answer is: [Y]', 'P39', 891, 892, 'No']], [['Did [W] have the position of [X]?  answer is: [Y]', 'P39', 891, 892, 'No']], [['Did [W] have the public [X] position?  answer is: [Y]', 'P39', 892, 892, 'No']], [['Did [W] have the public [X] role?  answer is: [Y]', 'P39', 891, 892, 'No']], [['Did [W] have the public position of [X]?  answer is: [Y]', 'P39', 876, 892, 'No']], [['Did [W] have the public role of [X]?  answer is: [Y]', 'P39', 883, 892, 'No']], [['Did [W] have the role of [X]?  answer is: [Y]', 'P39', 890, 892, 'No']], [['Did [W] hold the [X] position?  answer is: [Y]', 'P39', 890, 892, 'No']], [['Did [W] hold the [X] role?  answer is: [Y]', 'P39', 892, 892, 'No']], [['Did [W] hold the official [X] position?  answer is: [Y]', 'P39', 891, 892, 'No']], [['Did [W] hold the official [X] role?  answer is: [Y]', 'P39', 892, 892, 'No']], [['Did [W] hold the official position of [X]?  answer is: [Y]', 'P39', 890, 892, 'No']], [['Did [W] hold the official role of [X]?  answer is: [Y]', 'P39', 891, 892, 'No']], [['Did [W] hold the position of [X]?  answer is: [Y]', 'P39', 878, 892, 'No']], [['Did [W] hold the public [X] position?  answer is: [Y]', 'P39', 891, 892, 'No']], [['Did [W] hold the public [X] role?  answer is: [Y]', 'P39', 889, 892, 'No']], [['Did [W] hold the public position of [X]?  answer is: [Y]', 'P39', 884, 892, 'No']], [['Did [W] hold the public role of [X]?  answer is: [Y]', 'P39', 884, 892, 'No']], [['Did [W] hold the role of [X]?  answer is: [Y]', 'P39', 889, 892, 'No']], [['Did [W] officially hold the [X] position?  answer is: [Y]', 'P39', 892, 892, 'No']], [['Did [W] officially hold the [X] role?  answer is: [Y]', 'P39', 892, 892, 'No']], [['Did [W] officially hold the position of [X]?  answer is: [Y]', 'P39', 891, 892, 'No']], [['Did [W] officially hold the public [X] position?  answer is: [Y]', 'P39', 892, 892, 'No']], [['Did [W] officially hold the public [X] role?  answer is: [Y]', 'P39', 892, 892, 'No']], [['Did [W] officially hold the public position of [X]?  answer is: [Y]', 'P39', 892, 892, 'No']], [['Did [W] officially hold the public role of [X]?  answer is: [Y]', 'P39', 891, 892, 'No']], [['Did [W] officially hold the role of [X]?  answer is: [Y]', 'P39', 892, 892, 'No']], [['Does [W] have the [X] position?  answer is: [Y]', 'P39', 892, 892, 'No']], [['Does [W] have the [X] role?  answer is: [Y]', 'P39', 892, 892, 'No']], [['Does [W] have the official [X] position?  answer is: [Y]', 'P39', 892, 892, 'No']], [['Does [W] have the official [X] role?  answer is: [Y]', 'P39', 892, 892, 'No']], [['Does [W] have the official position of [X]?  answer is: [Y]', 'P39', 892, 892, 'No']], [['Does [W] have the official role of [X]?  answer is: [Y]', 'P39', 892, 892, 'No']], [['Does [W] have the position of [X]?  answer is: [Y]', 'P39', 891, 892, 'No']], [['Does [W] have the public [X] position?  answer is: [Y]', 'P39', 892, 892, 'No']], [['Does [W] have the public [X] role?  answer is: [Y]', 'P39', 892, 892, 'No']], [['Does [W] have the public position of [X]?  answer is: [Y]', 'P39', 892, 892, 'No']], [['Does [W] have the public role of [X]?  answer is: [Y]', 'P39', 892, 892, 'No']], [['Does [W] have the role of [X]?  answer is: [Y]', 'P39', 892, 892, 'No']], [['Does [W] hold the [X] position?  answer is: [Y]', 'P39', 892, 892, 'No']], [['Does [W] hold the [X] role?  answer is: [Y]', 'P39', 892, 892, 'No']], [['Does [W] hold the official [X] position?  answer is: [Y]', 'P39', 892, 892, 'No']], [['Does [W] hold the official [X] role?  answer is: [Y]', 'P39', 892, 892, 'No']], [['Does [W] hold the official position of [X]?  answer is: [Y]', 'P39', 892, 892, 'No']], [['Does [W] hold the official role of [X]?  answer is: [Y]', 'P39', 892, 892, 'No']], [['Does [W] hold the position of [X]?  answer is: [Y]', 'P39', 892, 892, 'No']], [['Does [W] hold the public [X] position?  answer is: [Y]', 'P39', 892, 892, 'No']], [['Does [W] hold the public [X] role?  answer is: [Y]', 'P39', 892, 892, 'No']], [['Does [W] hold the public position of [X]?  answer is: [Y]', 'P39', 892, 892, 'No']], [['Does [W] hold the public role of [X]?  answer is: [Y]', 'P39', 892, 892, 'No']], [['Does [W] hold the role of [X]?  answer is: [Y]', 'P39', 892, 892, 'No']], [['Does [W] officially hold the [X] position?  answer is: [Y]', 'P39', 892, 892, 'No']], [['Does [W] officially hold the [X] role?  answer is: [Y]', 'P39', 892, 892, 'No']], [['Does [W] officially hold the position of [X]?  answer is: [Y]', 'P39', 892, 892, 'No']], [['Does [W] officially hold the public [X] position?  answer is: [Y]', 'P39', 892, 892, 'No']], [['Does [W] officially hold the public [X] role?  answer is: [Y]', 'P39', 892, 892, 'No']], [['Does [W] officially hold the public position of [X]?  answer is: [Y]', 'P39', 892, 892, 'No']], [['Does [W] officially hold the public role of [X]?  answer is: [Y]', 'P39', 892, 892, 'No']], [['Does [W] officially hold the role of [X]?  answer is: [Y]', 'P39', 892, 892, 'No']], [[\"Is [W]'s official position [X]?  answer is: [Y]\", 'P39', 889, 892, 'No']], [[\"Is [W]'s official position that of [X]?  answer is: [Y]\", 'P39', 892, 892, 'No']], [[\"Is [W]'s official role [X]?  answer is: [Y]\", 'P39', 891, 892, 'No']], [[\"Is [W]'s official role that of [X]?  answer is: [Y]\", 'P39', 892, 892, 'No']], [[\"Is [W]'s position [X]?  answer is: [Y]\", 'P39', 888, 892, 'No']], [[\"Is [W]'s position that of [X]?  answer is: [Y]\", 'P39', 890, 892, 'No']], [[\"Is [W]'s public position [X]?  answer is: [Y]\", 'P39', 887, 892, 'No']], [[\"Is [W]'s public position that of [X]?  answer is: [Y]\", 'P39', 891, 892, 'No']], [[\"Is [W]'s public role [X]?  answer is: [Y]\", 'P39', 889, 892, 'No']], [[\"Is [W]'s public role that of [X]?  answer is: [Y]\", 'P39', 892, 892, 'No']], [[\"Is [W]'s role [X]?  answer is: [Y]\", 'P39', 886, 892, 'No']], [[\"Is [W]'s role that of [X]?  answer is: [Y]\", 'P39', 892, 892, 'No']], [[\"Was [W]'s official position [X]?  answer is: [Y]\", 'P39', 889, 892, 'No']], [[\"Was [W]'s official position that of [X]?  answer is: [Y]\", 'P39', 891, 892, 'No']], [[\"Was [W]'s official role [X]?  answer is: [Y]\", 'P39', 890, 892, 'No']], [[\"Was [W]'s official role that of [X]?  answer is: [Y]\", 'P39', 892, 892, 'No']], [[\"Was [W]'s position [X]?  answer is: [Y]\", 'P39', 890, 892, 'No']], [[\"Was [W]'s position that of [X]?  answer is: [Y]\", 'P39', 890, 892, 'No']], [[\"Was [W]'s public position [X]?  answer is: [Y]\", 'P39', 882, 892, 'No']], [[\"Was [W]'s public position that of [X]?  answer is: [Y]\", 'P39', 890, 892, 'No']], [[\"Was [W]'s public role [X]?  answer is: [Y]\", 'P39', 881, 892, 'No']], [[\"Was [W]'s public role that of [X]?  answer is: [Y]\", 'P39', 890, 892, 'No']], [[\"Was [W]'s role [X]?  answer is: [Y]\", 'P39', 889, 892, 'No']], [[\"Was [W]'s role that of [X]?  answer is: [Y]\", 'P39', 892, 892, 'No']]], 'P740': [[['Did [W] form in [X]?  answer is: [Y]', 'P740', 884, 936, 'No']], [['Did [W] originate in [X]?  answer is: [Y]', 'P740', 911, 936, 'No']], [['Did [W] start in [X]?  answer is: [Y]', 'P740', 916, 936, 'No']], [['Was [W] created in [X]?  answer is: [Y]', 'P740', 918, 936, 'No']], [['Was [W] formed in [X]?  answer is: [Y]', 'P740', 867, 936, 'No']], [['Was [W] founded in [X]?  answer is: [Y]', 'P740', 921, 936, 'No']], [['Was [W] started in [X]?  answer is: [Y]', 'P740', 677, 936, 'No']]], 'P279': [[['Does [W] belong to the [X] category?  answer is: [Y]', 'P279', 958, 964, 'No']], [['Does [W] have class [X]?  answer is: [Y]', 'P279', 962, 964, 'No']], [['Is [W] a [X]?  answer is: [Y]', 'P279', 946, 964, 'No']], [['Is [W] a kind of [X]?  answer is: [Y]', 'P279', 865, 964, 'No']], [['Is [W] a subclass of [X]?  answer is: [Y]', 'P279', 958, 964, 'No']], [['Is [W] a type of [X]?  answer is: [Y]', 'P279', 872, 964, 'No']], [['Is [W] of class [X]?  answer is: [Y]', 'P279', 878, 964, 'No']], [['Is [X] the class of [W]?  answer is: [Y]', 'P279', 869, 964, 'No']]], 'P30': [[['Does [W] belong to continent [X]?  answer is: [Y]', 'P30', 975, 975, 'No']], [['Does [W] belong to the continent of [X]?  answer is: [Y]', 'P30', 975, 975, 'No']], [['Is [W] a part of continent [X]?  answer is: [Y]', 'P30', 972, 975, 'No']], [['Is [W] a part of the continent [X]?  answer is: [Y]', 'P30', 974, 975, 'No']], [['Is [W] a part of the continent of [X]?  answer is: [Y]', 'P30', 973, 975, 'No']], [['Is [W] located in [X]?  answer is: [Y]', 'P30', 973, 975, 'No']], [['Is [W] located in continent [X]?  answer is: [Y]', 'P30', 975, 975, 'No']], [['Is [W] located in the [X] continent?  answer is: [Y]', 'P30', 969, 975, 'No']], [['Is [W] located in the continent [X]?  answer is: [Y]', 'P30', 972, 975, 'No']], [['Is [W] part of the [X] continent?  answer is: [Y]', 'P30', 972, 975, 'No']], [[\"Is [X] [W]'s continent?  answer is: [Y]\", 'P30', 975, 975, 'No']], [['Is [X] the continent of [W]?  answer is: [Y]', 'P30', 966, 975, 'No']]], 'P495': [[['Did [W] come from [X]?  answer is: [Y]', 'P495', 909, 909, 'No']], [['Did [W] form in [X]?  answer is: [Y]', 'P495', 904, 909, 'No']], [['Did [W] originate in [X]?  answer is: [Y]', 'P495', 905, 909, 'No']], [['Does [W] come from [X]?  answer is: [Y]', 'P495', 909, 909, 'No']], [['Does [W] originate in [X]?  answer is: [Y]', 'P495', 906, 909, 'No']], [['Is [W] formulated in [X]?  answer is: [Y]', 'P495', 891, 909, 'No']], [['Is [W] from [X]?  answer is: [Y]', 'P495', 888, 909, 'No']], [[\"Is [X] [W]'s original country?  answer is: [Y]\", 'P495', 909, 909, 'No']], [['Is [X] the original country of [W]?  answer is: [Y]', 'P495', 908, 909, 'No']], [['Was [W] created in [X]?  answer is: [Y]', 'P495', 905, 909, 'No']], [['Was [W] developed in [X]?  answer is: [Y]', 'P495', 905, 909, 'No']], [['Was [W] first created in [X]?  answer is: [Y]', 'P495', 901, 909, 'No']], [['Was [W] first made in [X]?  answer is: [Y]', 'P495', 906, 909, 'No']], [['Was [W] first produced in [X]?  answer is: [Y]', 'P495', 904, 909, 'No']], [['Was [W] formed in [X]?  answer is: [Y]', 'P495', 892, 909, 'No']], [['Was [W] formulated in [X]?  answer is: [Y]', 'P495', 903, 909, 'No']], [['Was [W] from [X]?  answer is: [Y]', 'P495', 905, 909, 'No']]], 'P103': [[['Does [W] speak [X] as a mother tongue?  answer is: [Y]', 'P103', 965, 977, 'No']], [['Does [W] speak [X] as a native language?  answer is: [Y]', 'P103', 975, 977, 'No']], [[\"Is [X] [W]'s mother tongue?  answer is: [Y]\", 'P103', 855, 977, 'No']], [[\"Is [X] [W]'s native language?  answer is: [Y]\", 'P103', 882, 977, 'No']]], 'P364': [[['Is [X] the language of [W]?  answer is: [Y]', 'P364', 699, 856, 'No']], [['Is [X] the original language of [W]?  answer is: [Y]', 'P364', 807, 856, 'No']], [['Was [W] originally performed in [X]?  answer is: [Y]', 'P364', 493, 856, 'No']], [['Was [W] originally performed in language [X]?  answer is: [Y]', 'P364', 541, 856, 'No']], [['Was [W] originally performed in the [X] language?  answer is: [Y]', 'P364', 447, 856, 'No']], [['Was [W] originally performed in the following language: [X]?  answer is: [Y]', 'P364', 576, 856, 'No']], [['Was [W] originally played in [X]?  answer is: [Y]', 'P364', 660, 856, 'No']], [['Was [W] originally played in language [X]?  answer is: [Y]', 'P364', 628, 856, 'No']], [['Was [W] originally played in the [X] language?  answer is: [Y]', 'P364', 620, 856, 'No']], [['Was [W] originally played in the following language: [X]?  answer is: [Y]', 'P364', 661, 856, 'No']], [['Was [X] the language of [W]?  answer is: [Y]', 'P364', 726, 856, 'No']], [['Was [X] the original language of [W]?  answer is: [Y]', 'P364', 814, 856, 'No']]], 'P19': [[['Did [W] originate from [X]?  answer is: [Y]', 'P19', 916, 944, 'No']], [['Does [W] originate from [X]?  answer is: [Y]', 'P19', 895, 944, 'No']], [['Is [W] a [X]-born person?  answer is: [Y]', 'P19', 932, 944, 'No']], [['Is [W] an [X]-born person?  answer is: [Y]', 'P19', 925, 944, 'No']], [['Is [W] native to [X]?  answer is: [Y]', 'P19', 705, 944, 'No']], [['Is [W] originally from [X]?  answer is: [Y]', 'P19', 321, 944, 'No']], [[\"Is [X] [W]'s birthplace?  answer is: [Y]\", 'P19', 926, 944, 'No']], [[\"Is [X] [W]'s place of birth?  answer is: [Y]\", 'P19', 940, 944, 'No']], [['Was [W] a [X]-born person?  answer is: [Y]', 'P19', 933, 944, 'No']], [['Was [W] an [X]-born person?  answer is: [Y]', 'P19', 930, 944, 'No']], [['Was [W] born in [X]?  answer is: [Y]', 'P19', 931, 944, 'No']], [['Was [W] native to [X]?  answer is: [Y]', 'P19', 553, 944, 'No']], [['Was [W] originally from [X]?  answer is: [Y]', 'P19', 589, 944, 'No']], [[\"Was [X] [W]'s birthplace?  answer is: [Y]\", 'P19', 923, 944, 'No']], [[\"Was [X] [W]'s place of birth?  answer is: [Y]\", 'P19', 939, 944, 'No']]], 'P20': [[['Did [W] die at [X]?  answer is: [Y]', 'P20', 951, 953, 'No']], [['Did [W] die in [X]?  answer is: [Y]', 'P20', 952, 953, 'No']], [['Did [W] expire at [X]?  answer is: [Y]', 'P20', 953, 953, 'No']], [['Did [W] expire in [X]?  answer is: [Y]', 'P20', 953, 953, 'No']], [['Did [W] lose their life at [X]?  answer is: [Y]', 'P20', 953, 953, 'No']], [['Did [W] lose their life in [X]?  answer is: [Y]', 'P20', 953, 953, 'No']], [['Did [W] pass away at [X]?  answer is: [Y]', 'P20', 943, 953, 'No']], [['Did [W] pass away in [X]?  answer is: [Y]', 'P20', 935, 953, 'No']], [['Did [W] succumb at [X]?  answer is: [Y]', 'P20', 951, 953, 'No']], [['Did [W] succumb in [X]?  answer is: [Y]', 'P20', 953, 953, 'No']], [[\"Did [W]'s life end at [X]?  answer is: [Y]\", 'P20', 953, 953, 'No']], [[\"Did [W]'s life end in [X]?  answer is: [Y]\", 'P20', 953, 953, 'No']], [[\"Is [X] [W]'s death location?  answer is: [Y]\", 'P20', 953, 953, 'No']], [[\"Is [X] [W]'s death place?  answer is: [Y]\", 'P20', 953, 953, 'No']], [[\"Is [X] [W]'s place of death?  answer is: [Y]\", 'P20', 953, 953, 'No']], [[\"Was [X] [W]'s death location?  answer is: [Y]\", 'P20', 951, 953, 'No']], [[\"Was [X] [W]'s death place?  answer is: [Y]\", 'P20', 953, 953, 'No']], [[\"Was [X] [W]'s place of death?  answer is: [Y]\", 'P20', 953, 953, 'No']]]}\u001b[0m\u001b[0;34m\u001b[0m\u001b[0;34m\u001b[0m\u001b[0;34m\u001b[0m\u001b[0m\n\u001b[1;32m      3\u001b[0m \u001b[0mfinal_no_quest\u001b[0m \u001b[0;34m=\u001b[0m \u001b[0;34m{\u001b[0m\u001b[0;34m\"P108\"\u001b[0m\u001b[0;34m:\u001b[0m \u001b[0;34m[\u001b[0m\u001b[0;34m[\u001b[0m\u001b[0;34m[\u001b[0m\u001b[0;34m\"Does [W] work for [X]? The answer is: [Y]\"\u001b[0m\u001b[0;34m,\u001b[0m \u001b[0;34m\"P108\"\u001b[0m\u001b[0;34m,\u001b[0m \u001b[0;36m351\u001b[0m\u001b[0;34m,\u001b[0m \u001b[0;36m383\u001b[0m\u001b[0;34m,\u001b[0m \u001b[0;34m\"no\"\u001b[0m\u001b[0;34m]\u001b[0m\u001b[0;34m]\u001b[0m\u001b[0;34m,\u001b[0m \u001b[0;34m[\u001b[0m\u001b[0;34m[\u001b[0m\u001b[0;34m\"Is [W] employed by [X]? The answer is: [Y]\"\u001b[0m\u001b[0;34m,\u001b[0m \u001b[0;34m\"P108\"\u001b[0m\u001b[0;34m,\u001b[0m \u001b[0;36m383\u001b[0m\u001b[0;34m,\u001b[0m \u001b[0;36m383\u001b[0m\u001b[0;34m,\u001b[0m \u001b[0;34m\"no\"\u001b[0m\u001b[0;34m]\u001b[0m\u001b[0;34m]\u001b[0m\u001b[0;34m]\u001b[0m\u001b[0;34m,\u001b[0m \u001b[0;34m\"P937\"\u001b[0m\u001b[0;34m:\u001b[0m \u001b[0;34m[\u001b[0m\u001b[0;34m[\u001b[0m\u001b[0;34m[\u001b[0m\u001b[0;34m\"Did [W] find employment in [X]? The answer is: [Y]\"\u001b[0m\u001b[0;34m,\u001b[0m \u001b[0;34m\"P937\"\u001b[0m\u001b[0;34m,\u001b[0m \u001b[0;36m896\u001b[0m\u001b[0;34m,\u001b[0m \u001b[0;36m954\u001b[0m\u001b[0;34m,\u001b[0m \u001b[0;34m\"no\"\u001b[0m\u001b[0;34m]\u001b[0m\u001b[0;34m]\u001b[0m\u001b[0;34m,\u001b[0m \u001b[0;34m[\u001b[0m\u001b[0;34m[\u001b[0m\u001b[0;34m\"Did [W] take up work in [X]? The answer is: [Y]\"\u001b[0m\u001b[0;34m,\u001b[0m \u001b[0;34m\"P937\"\u001b[0m\u001b[0;34m,\u001b[0m \u001b[0;36m550\u001b[0m\u001b[0;34m,\u001b[0m \u001b[0;36m954\u001b[0m\u001b[0;34m,\u001b[0m \u001b[0;34m\"no\"\u001b[0m\u001b[0;34m]\u001b[0m\u001b[0;34m]\u001b[0m\u001b[0;34m]\u001b[0m\u001b[0;34m,\u001b[0m \u001b[0;34m\"P39\"\u001b[0m\u001b[0;34m:\u001b[0m \u001b[0;34m[\u001b[0m\u001b[0;34m[\u001b[0m\u001b[0;34m[\u001b[0m\u001b[0;34m\"Did [W] have the [X] position? The answer is: [Y]\"\u001b[0m\u001b[0;34m,\u001b[0m \u001b[0;34m\"P39\"\u001b[0m\u001b[0;34m,\u001b[0m \u001b[0;36m883\u001b[0m\u001b[0;34m,\u001b[0m \u001b[0;36m892\u001b[0m\u001b[0;34m,\u001b[0m \u001b[0;34m\"no\"\u001b[0m\u001b[0;34m]\u001b[0m\u001b[0;34m]\u001b[0m\u001b[0;34m,\u001b[0m \u001b[0;34m[\u001b[0m\u001b[0;34m[\u001b[0m\u001b[0;34m\"Did [W] have the [X] role? The answer is: [Y]\"\u001b[0m\u001b[0;34m,\u001b[0m \u001b[0;34m\"P39\"\u001b[0m\u001b[0;34m,\u001b[0m \u001b[0;36m892\u001b[0m\u001b[0;34m,\u001b[0m \u001b[0;36m892\u001b[0m\u001b[0;34m,\u001b[0m \u001b[0;34m\"no\"\u001b[0m\u001b[0;34m]\u001b[0m\u001b[0;34m]\u001b[0m\u001b[0;34m]\u001b[0m\u001b[0;34m,\u001b[0m \u001b[0;34m\"P740\"\u001b[0m\u001b[0;34m:\u001b[0m \u001b[0;34m[\u001b[0m\u001b[0;34m[\u001b[0m\u001b[0;34m[\u001b[0m\u001b[0;34m\"Did [W] form in [X]? The answer is: [Y]\"\u001b[0m\u001b[0;34m,\u001b[0m \u001b[0;34m\"P740\"\u001b[0m\u001b[0;34m,\u001b[0m \u001b[0;36m234\u001b[0m\u001b[0;34m,\u001b[0m \u001b[0;36m936\u001b[0m\u001b[0;34m,\u001b[0m \u001b[0;34m\"no\"\u001b[0m\u001b[0;34m]\u001b[0m\u001b[0;34m]\u001b[0m\u001b[0;34m,\u001b[0m \u001b[0;34m[\u001b[0m\u001b[0;34m[\u001b[0m\u001b[0;34m\"Did [W] originate in [X]? The answer is: [Y]\"\u001b[0m\u001b[0;34m,\u001b[0m \u001b[0;34m\"P740\"\u001b[0m\u001b[0;34m,\u001b[0m \u001b[0;36m223\u001b[0m\u001b[0;34m,\u001b[0m \u001b[0;36m936\u001b[0m\u001b[0;34m,\u001b[0m \u001b[0;34m\"no\"\u001b[0m\u001b[0;34m]\u001b[0m\u001b[0;34m]\u001b[0m\u001b[0;34m]\u001b[0m\u001b[0;34m,\u001b[0m \u001b[0;34m\"P279\"\u001b[0m\u001b[0;34m:\u001b[0m \u001b[0;34m[\u001b[0m\u001b[0;34m[\u001b[0m\u001b[0;34m[\u001b[0m\u001b[0;34m\"Does [W] belong to the [X] category? The answer is: [Y]\"\u001b[0m\u001b[0;34m,\u001b[0m \u001b[0;34m\"P279\"\u001b[0m\u001b[0;34m,\u001b[0m \u001b[0;36m735\u001b[0m\u001b[0;34m,\u001b[0m \u001b[0;36m964\u001b[0m\u001b[0;34m,\u001b[0m \u001b[0;34m\"no\"\u001b[0m\u001b[0;34m]\u001b[0m\u001b[0;34m]\u001b[0m\u001b[0;34m,\u001b[0m \u001b[0;34m[\u001b[0m\u001b[0;34m[\u001b[0m\u001b[0;34m\"Does [W] have class [X]? The answer is: [Y]\"\u001b[0m\u001b[0;34m,\u001b[0m \u001b[0;34m\"P279\"\u001b[0m\u001b[0;34m,\u001b[0m \u001b[0;36m851\u001b[0m\u001b[0;34m,\u001b[0m \u001b[0;36m964\u001b[0m\u001b[0;34m,\u001b[0m \u001b[0;34m\"no\"\u001b[0m\u001b[0;34m]\u001b[0m\u001b[0;34m]\u001b[0m\u001b[0;34m]\u001b[0m\u001b[0;34m,\u001b[0m \u001b[0;34m\"P30\"\u001b[0m\u001b[0;34m:\u001b[0m \u001b[0;34m[\u001b[0m\u001b[0;34m[\u001b[0m\u001b[0;34m[\u001b[0m\u001b[0;34m\"Does [W] belong to continent [X]? The answer is: [Y]\"\u001b[0m\u001b[0;34m,\u001b[0m \u001b[0;34m\"P30\"\u001b[0m\u001b[0;34m,\u001b[0m \u001b[0;36m963\u001b[0m\u001b[0;34m,\u001b[0m \u001b[0;36m975\u001b[0m\u001b[0;34m,\u001b[0m \u001b[0;34m\"no\"\u001b[0m\u001b[0;34m]\u001b[0m\u001b[0;34m]\u001b[0m\u001b[0;34m,\u001b[0m \u001b[0;34m[\u001b[0m\u001b[0;34m[\u001b[0m\u001b[0;34m\"Does [W] belong to the continent of [X]? The answer is: [Y]\"\u001b[0m\u001b[0;34m,\u001b[0m \u001b[0;34m\"P30\"\u001b[0m\u001b[0;34m,\u001b[0m \u001b[0;36m875\u001b[0m\u001b[0;34m,\u001b[0m \u001b[0;36m975\u001b[0m\u001b[0;34m,\u001b[0m \u001b[0;34m\"no\"\u001b[0m\u001b[0;34m]\u001b[0m\u001b[0;34m]\u001b[0m\u001b[0;34m]\u001b[0m\u001b[0;34m,\u001b[0m \u001b[0;34m\"P495\"\u001b[0m\u001b[0;34m:\u001b[0m \u001b[0;34m[\u001b[0m\u001b[0;34m[\u001b[0m\u001b[0;34m[\u001b[0m\u001b[0;34m\"Did [W] come from [X]? The answer is: [Y]\"\u001b[0m\u001b[0;34m,\u001b[0m \u001b[0;34m\"P495\"\u001b[0m\u001b[0;34m,\u001b[0m \u001b[0;36m802\u001b[0m\u001b[0;34m,\u001b[0m \u001b[0;36m909\u001b[0m\u001b[0;34m,\u001b[0m \u001b[0;34m\"no\"\u001b[0m\u001b[0;34m]\u001b[0m\u001b[0;34m]\u001b[0m\u001b[0;34m,\u001b[0m \u001b[0;34m[\u001b[0m\u001b[0;34m[\u001b[0m\u001b[0;34m\"Did [W] form in [X]? The answer is: [Y]\"\u001b[0m\u001b[0;34m,\u001b[0m \u001b[0;34m\"P495\"\u001b[0m\u001b[0;34m,\u001b[0m \u001b[0;36m572\u001b[0m\u001b[0;34m,\u001b[0m \u001b[0;36m909\u001b[0m\u001b[0;34m,\u001b[0m \u001b[0;34m\"no\"\u001b[0m\u001b[0;34m]\u001b[0m\u001b[0;34m]\u001b[0m\u001b[0;34m]\u001b[0m\u001b[0;34m,\u001b[0m \u001b[0;34m\"P103\"\u001b[0m\u001b[0;34m:\u001b[0m \u001b[0;34m[\u001b[0m\u001b[0;34m[\u001b[0m\u001b[0;34m[\u001b[0m\u001b[0;34m\"Does [W] speak [X] as a mother tongue? The answer is: [Y]\"\u001b[0m\u001b[0;34m,\u001b[0m \u001b[0;34m\"P103\"\u001b[0m\u001b[0;34m,\u001b[0m \u001b[0;36m970\u001b[0m\u001b[0;34m,\u001b[0m \u001b[0;36m977\u001b[0m\u001b[0;34m,\u001b[0m \u001b[0;34m\"no\"\u001b[0m\u001b[0;34m]\u001b[0m\u001b[0;34m]\u001b[0m\u001b[0;34m,\u001b[0m \u001b[0;34m[\u001b[0m\u001b[0;34m[\u001b[0m\u001b[0;34m\"Does [W] speak [X] as a native language? The answer is: [Y]\"\u001b[0m\u001b[0;34m,\u001b[0m \u001b[0;34m\"P103\"\u001b[0m\u001b[0;34m,\u001b[0m \u001b[0;36m971\u001b[0m\u001b[0;34m,\u001b[0m \u001b[0;36m977\u001b[0m\u001b[0;34m,\u001b[0m \u001b[0;34m\"no\"\u001b[0m\u001b[0;34m]\u001b[0m\u001b[0;34m]\u001b[0m\u001b[0;34m]\u001b[0m\u001b[0;34m,\u001b[0m \u001b[0;34m\"P364\"\u001b[0m\u001b[0;34m:\u001b[0m \u001b[0;34m[\u001b[0m\u001b[0;34m[\u001b[0m\u001b[0;34m[\u001b[0m\u001b[0;34m\"Is [X] the language of [W]? The answer is: [Y]\"\u001b[0m\u001b[0;34m,\u001b[0m \u001b[0;34m\"P364\"\u001b[0m\u001b[0;34m,\u001b[0m \u001b[0;36m445\u001b[0m\u001b[0;34m,\u001b[0m \u001b[0;36m856\u001b[0m\u001b[0;34m,\u001b[0m \u001b[0;34m\"no\"\u001b[0m\u001b[0;34m]\u001b[0m\u001b[0;34m]\u001b[0m\u001b[0;34m,\u001b[0m \u001b[0;34m[\u001b[0m\u001b[0;34m[\u001b[0m\u001b[0;34m\"Is [X] the original language of [W]? The answer is: [Y]\"\u001b[0m\u001b[0;34m,\u001b[0m \u001b[0;34m\"P364\"\u001b[0m\u001b[0;34m,\u001b[0m \u001b[0;36m771\u001b[0m\u001b[0;34m,\u001b[0m \u001b[0;36m856\u001b[0m\u001b[0;34m,\u001b[0m \u001b[0;34m\"no\"\u001b[0m\u001b[0;34m]\u001b[0m\u001b[0;34m]\u001b[0m\u001b[0;34m]\u001b[0m\u001b[0;34m,\u001b[0m \u001b[0;34m\"P19\"\u001b[0m\u001b[0;34m:\u001b[0m \u001b[0;34m[\u001b[0m\u001b[0;34m[\u001b[0m\u001b[0;34m[\u001b[0m\u001b[0;34m\"Did [W] originate from [X]? The answer is: [Y]\"\u001b[0m\u001b[0;34m,\u001b[0m \u001b[0;34m\"P19\"\u001b[0m\u001b[0;34m,\u001b[0m \u001b[0;36m444\u001b[0m\u001b[0;34m,\u001b[0m \u001b[0;36m944\u001b[0m\u001b[0;34m,\u001b[0m \u001b[0;34m\"no\"\u001b[0m\u001b[0;34m]\u001b[0m\u001b[0;34m]\u001b[0m\u001b[0;34m,\u001b[0m \u001b[0;34m[\u001b[0m\u001b[0;34m[\u001b[0m\u001b[0;34m\"Does [W] originate from [X]? The answer is: [Y]\"\u001b[0m\u001b[0;34m,\u001b[0m \u001b[0;34m\"P19\"\u001b[0m\u001b[0;34m,\u001b[0m \u001b[0;36m547\u001b[0m\u001b[0;34m,\u001b[0m \u001b[0;36m944\u001b[0m\u001b[0;34m,\u001b[0m \u001b[0;34m\"no\"\u001b[0m\u001b[0;34m]\u001b[0m\u001b[0;34m]\u001b[0m\u001b[0;34m]\u001b[0m\u001b[0;34m,\u001b[0m \u001b[0;34m\"P20\"\u001b[0m\u001b[0;34m:\u001b[0m \u001b[0;34m[\u001b[0m\u001b[0;34m[\u001b[0m\u001b[0;34m[\u001b[0m\u001b[0;34m\"Did [W] die at [X]? The answer is: [Y]\"\u001b[0m\u001b[0;34m,\u001b[0m \u001b[0;34m\"P20\"\u001b[0m\u001b[0;34m,\u001b[0m \u001b[0;36m915\u001b[0m\u001b[0;34m,\u001b[0m \u001b[0;36m953\u001b[0m\u001b[0;34m,\u001b[0m \u001b[0;34m\"no\"\u001b[0m\u001b[0;34m]\u001b[0m\u001b[0;34m]\u001b[0m\u001b[0;34m,\u001b[0m \u001b[0;34m[\u001b[0m\u001b[0;34m[\u001b[0m\u001b[0;34m\"Did [W] die in [X]? The answer is: [Y]\"\u001b[0m\u001b[0;34m,\u001b[0m \u001b[0;34m\"P20\"\u001b[0m\u001b[0;34m,\u001b[0m \u001b[0;36m896\u001b[0m\u001b[0;34m,\u001b[0m \u001b[0;36m953\u001b[0m\u001b[0;34m,\u001b[0m \u001b[0;34m\"no\"\u001b[0m\u001b[0;34m]\u001b[0m\u001b[0;34m]\u001b[0m\u001b[0;34m]\u001b[0m\u001b[0;34m}\u001b[0m\u001b[0;34m\u001b[0m\u001b[0;34m\u001b[0m\u001b[0m\n\u001b[0;32m----> 4\u001b[0;31m \u001b[0mfinal_list_no\u001b[0m \u001b[0;34m=\u001b[0m \u001b[0mextract_acc\u001b[0m\u001b[0;34m(\u001b[0m\u001b[0mfinal_no_quest\u001b[0m\u001b[0;34m,\u001b[0m \u001b[0mno_question\u001b[0m\u001b[0;34m)\u001b[0m\u001b[0;34m\u001b[0m\u001b[0;34m\u001b[0m\u001b[0m\n\u001b[0m\u001b[1;32m      5\u001b[0m \u001b[0mdf_final_list_no\u001b[0m \u001b[0;34m=\u001b[0m \u001b[0mpd\u001b[0m\u001b[0;34m.\u001b[0m\u001b[0mDataFrame\u001b[0m\u001b[0;34m(\u001b[0m\u001b[0mfinal_list_no\u001b[0m\u001b[0;34m,\u001b[0m \u001b[0mcolumns\u001b[0m \u001b[0;34m=\u001b[0m \u001b[0;34m[\u001b[0m\u001b[0;34m'question'\u001b[0m\u001b[0;34m,\u001b[0m \u001b[0;34m'acc'\u001b[0m\u001b[0;34m,\u001b[0m \u001b[0;34m'target'\u001b[0m\u001b[0;34m,\u001b[0m\u001b[0;34m'fact'\u001b[0m\u001b[0;34m]\u001b[0m\u001b[0;34m)\u001b[0m\u001b[0;34m\u001b[0m\u001b[0;34m\u001b[0m\u001b[0m\n\u001b[1;32m      6\u001b[0m \u001b[0;31m#print(df_final_list_no.head())\u001b[0m\u001b[0;34m\u001b[0m\u001b[0;34m\u001b[0m\u001b[0;34m\u001b[0m\u001b[0m\n",
      "\u001b[0;32m/tmp/ipykernel_28392/1145907443.py\u001b[0m in \u001b[0;36mextract_acc\u001b[0;34m(dictionary_values, case)\u001b[0m\n\u001b[1;32m     16\u001b[0m         \u001b[0mprint\u001b[0m\u001b[0;34m(\u001b[0m\u001b[0;34m\"/\"\u001b[0m\u001b[0;34m*\u001b[0m\u001b[0;36m10\u001b[0m\u001b[0;34m)\u001b[0m\u001b[0;34m\u001b[0m\u001b[0;34m\u001b[0m\u001b[0m\n\u001b[1;32m     17\u001b[0m         \u001b[0;31m#print(dict_questions[dict_q][0][3])\u001b[0m\u001b[0;34m\u001b[0m\u001b[0;34m\u001b[0m\u001b[0;34m\u001b[0m\u001b[0m\n\u001b[0;32m---> 18\u001b[0;31m         \u001b[0macc\u001b[0m \u001b[0;34m=\u001b[0m \u001b[0mdict_questions\u001b[0m\u001b[0;34m[\u001b[0m\u001b[0mdict_q\u001b[0m\u001b[0;34m]\u001b[0m\u001b[0;34m[\u001b[0m\u001b[0;36m0\u001b[0m\u001b[0;34m]\u001b[0m\u001b[0;34m[\u001b[0m\u001b[0;36m0\u001b[0m\u001b[0;34m]\u001b[0m\u001b[0;34m/\u001b[0m\u001b[0;34m(\u001b[0m\u001b[0mdict_questions\u001b[0m\u001b[0;34m[\u001b[0m\u001b[0mdict_q\u001b[0m\u001b[0;34m]\u001b[0m\u001b[0;34m[\u001b[0m\u001b[0;36m0\u001b[0m\u001b[0;34m]\u001b[0m\u001b[0;34m[\u001b[0m\u001b[0;36m1\u001b[0m\u001b[0;34m]\u001b[0m\u001b[0;34m*\u001b[0m\u001b[0;36m2\u001b[0m\u001b[0;34m)\u001b[0m\u001b[0;34m\u001b[0m\u001b[0;34m\u001b[0m\u001b[0m\n\u001b[0m\u001b[1;32m     19\u001b[0m         \u001b[0mfinal_list\u001b[0m\u001b[0;34m.\u001b[0m\u001b[0mappend\u001b[0m\u001b[0;34m(\u001b[0m\u001b[0;34m[\u001b[0m\u001b[0mdict_q\u001b[0m\u001b[0;34m,\u001b[0m \u001b[0macc\u001b[0m\u001b[0;34m,\u001b[0m \u001b[0mdict_questions\u001b[0m\u001b[0;34m[\u001b[0m\u001b[0mdict_q\u001b[0m\u001b[0;34m]\u001b[0m\u001b[0;34m[\u001b[0m\u001b[0;36m0\u001b[0m\u001b[0;34m]\u001b[0m\u001b[0;34m[\u001b[0m\u001b[0;36m2\u001b[0m\u001b[0;34m]\u001b[0m\u001b[0;34m,\u001b[0m  \u001b[0mdict_questions\u001b[0m\u001b[0;34m[\u001b[0m\u001b[0mdict_q\u001b[0m\u001b[0;34m]\u001b[0m\u001b[0;34m[\u001b[0m\u001b[0;36m0\u001b[0m\u001b[0;34m]\u001b[0m\u001b[0;34m[\u001b[0m\u001b[0;36m3\u001b[0m\u001b[0;34m]\u001b[0m\u001b[0;34m]\u001b[0m\u001b[0;34m)\u001b[0m\u001b[0;34m\u001b[0m\u001b[0;34m\u001b[0m\u001b[0m\n\u001b[1;32m     20\u001b[0m \u001b[0;34m\u001b[0m\u001b[0m\n",
      "\u001b[0;31mIndexError\u001b[0m: list index out of range"
     ]
    }
   ],
   "source": [
    "#answer_is\n",
    "#final_no_quest = {'P108': [[['Does [W] work for [X]?  answer is: [Y]', 'P108', 382, 383, 'No']], [['Is [W] employed by [X]?  answer is: [Y]', 'P108', 383, 383, 'No']]], 'P937': [[['Did [W] find employment in [X]?  answer is: [Y]', 'P937', 954, 954, 'No']], [['Did [W] take up work in [X]?  answer is: [Y]', 'P937', 951, 954, 'No']], [['Did [W] use to work in [X]?  answer is: [Y]', 'P937', 928, 954, 'No']], [['Did [W] work in [X]?  answer is: [Y]', 'P937', 927, 954, 'No']], [['Does [W] work in [X]?  answer is: [Y]', 'P937', 954, 954, 'No']], [['Is [W] employed in [X]?  answer is: [Y]', 'P937', 954, 954, 'No']], [[\"Is [X] [W]'s employment location?  answer is: [Y]\", 'P937', 954, 954, 'No']], [[\"Is [X] [W]'s location of employment?  answer is: [Y]\", 'P937', 954, 954, 'No']], [[\"Is [X] [W]'s work location?  answer is: [Y]\", 'P937', 949, 954, 'No']], [['Is [X] where [W] is employed?  answer is: [Y]', 'P937', 950, 954, 'No']], [['Is [X] where [W] was employed?  answer is: [Y]', 'P937', 948, 954, 'No']], [['Was [W] employed in [X]?  answer is: [Y]', 'P937', 953, 954, 'No']], [[\"Was [X] [W]'s employment location?  answer is: [Y]\", 'P937', 954, 954, 'No']], [[\"Was [X] [W]'s location of employment?  answer is: [Y]\", 'P937', 954, 954, 'No']], [[\"Was [X] [W]'s work location?  answer is: [Y]\", 'P937', 953, 954, 'No']]], 'P39': [[['Did [W] have the [X] position?  answer is: [Y]', 'P39', 891, 892, 'No']], [['Did [W] have the [X] role?  answer is: [Y]', 'P39', 891, 892, 'No']], [['Did [W] have the official [X] position?  answer is: [Y]', 'P39', 892, 892, 'No']], [['Did [W] have the official [X] role?  answer is: [Y]', 'P39', 892, 892, 'No']], [['Did [W] have the official position of [X]?  answer is: [Y]', 'P39', 889, 892, 'No']], [['Did [W] have the official role of [X]?  answer is: [Y]', 'P39', 891, 892, 'No']], [['Did [W] have the position of [X]?  answer is: [Y]', 'P39', 891, 892, 'No']], [['Did [W] have the public [X] position?  answer is: [Y]', 'P39', 892, 892, 'No']], [['Did [W] have the public [X] role?  answer is: [Y]', 'P39', 891, 892, 'No']], [['Did [W] have the public position of [X]?  answer is: [Y]', 'P39', 876, 892, 'No']], [['Did [W] have the public role of [X]?  answer is: [Y]', 'P39', 883, 892, 'No']], [['Did [W] have the role of [X]?  answer is: [Y]', 'P39', 890, 892, 'No']], [['Did [W] hold the [X] position?  answer is: [Y]', 'P39', 890, 892, 'No']], [['Did [W] hold the [X] role?  answer is: [Y]', 'P39', 892, 892, 'No']], [['Did [W] hold the official [X] position?  answer is: [Y]', 'P39', 891, 892, 'No']], [['Did [W] hold the official [X] role?  answer is: [Y]', 'P39', 892, 892, 'No']], [['Did [W] hold the official position of [X]?  answer is: [Y]', 'P39', 890, 892, 'No']], [['Did [W] hold the official role of [X]?  answer is: [Y]', 'P39', 891, 892, 'No']], [['Did [W] hold the position of [X]?  answer is: [Y]', 'P39', 878, 892, 'No']], [['Did [W] hold the public [X] position?  answer is: [Y]', 'P39', 891, 892, 'No']], [['Did [W] hold the public [X] role?  answer is: [Y]', 'P39', 889, 892, 'No']], [['Did [W] hold the public position of [X]?  answer is: [Y]', 'P39', 884, 892, 'No']], [['Did [W] hold the public role of [X]?  answer is: [Y]', 'P39', 884, 892, 'No']], [['Did [W] hold the role of [X]?  answer is: [Y]', 'P39', 889, 892, 'No']], [['Did [W] officially hold the [X] position?  answer is: [Y]', 'P39', 892, 892, 'No']], [['Did [W] officially hold the [X] role?  answer is: [Y]', 'P39', 892, 892, 'No']], [['Did [W] officially hold the position of [X]?  answer is: [Y]', 'P39', 891, 892, 'No']], [['Did [W] officially hold the public [X] position?  answer is: [Y]', 'P39', 892, 892, 'No']], [['Did [W] officially hold the public [X] role?  answer is: [Y]', 'P39', 892, 892, 'No']], [['Did [W] officially hold the public position of [X]?  answer is: [Y]', 'P39', 892, 892, 'No']], [['Did [W] officially hold the public role of [X]?  answer is: [Y]', 'P39', 891, 892, 'No']], [['Did [W] officially hold the role of [X]?  answer is: [Y]', 'P39', 892, 892, 'No']], [['Does [W] have the [X] position?  answer is: [Y]', 'P39', 892, 892, 'No']], [['Does [W] have the [X] role?  answer is: [Y]', 'P39', 892, 892, 'No']], [['Does [W] have the official [X] position?  answer is: [Y]', 'P39', 892, 892, 'No']], [['Does [W] have the official [X] role?  answer is: [Y]', 'P39', 892, 892, 'No']], [['Does [W] have the official position of [X]?  answer is: [Y]', 'P39', 892, 892, 'No']], [['Does [W] have the official role of [X]?  answer is: [Y]', 'P39', 892, 892, 'No']], [['Does [W] have the position of [X]?  answer is: [Y]', 'P39', 891, 892, 'No']], [['Does [W] have the public [X] position?  answer is: [Y]', 'P39', 892, 892, 'No']], [['Does [W] have the public [X] role?  answer is: [Y]', 'P39', 892, 892, 'No']], [['Does [W] have the public position of [X]?  answer is: [Y]', 'P39', 892, 892, 'No']], [['Does [W] have the public role of [X]?  answer is: [Y]', 'P39', 892, 892, 'No']], [['Does [W] have the role of [X]?  answer is: [Y]', 'P39', 892, 892, 'No']], [['Does [W] hold the [X] position?  answer is: [Y]', 'P39', 892, 892, 'No']], [['Does [W] hold the [X] role?  answer is: [Y]', 'P39', 892, 892, 'No']], [['Does [W] hold the official [X] position?  answer is: [Y]', 'P39', 892, 892, 'No']], [['Does [W] hold the official [X] role?  answer is: [Y]', 'P39', 892, 892, 'No']], [['Does [W] hold the official position of [X]?  answer is: [Y]', 'P39', 892, 892, 'No']], [['Does [W] hold the official role of [X]?  answer is: [Y]', 'P39', 892, 892, 'No']], [['Does [W] hold the position of [X]?  answer is: [Y]', 'P39', 892, 892, 'No']], [['Does [W] hold the public [X] position?  answer is: [Y]', 'P39', 892, 892, 'No']], [['Does [W] hold the public [X] role?  answer is: [Y]', 'P39', 892, 892, 'No']], [['Does [W] hold the public position of [X]?  answer is: [Y]', 'P39', 892, 892, 'No']], [['Does [W] hold the public role of [X]?  answer is: [Y]', 'P39', 892, 892, 'No']], [['Does [W] hold the role of [X]?  answer is: [Y]', 'P39', 892, 892, 'No']], [['Does [W] officially hold the [X] position?  answer is: [Y]', 'P39', 892, 892, 'No']], [['Does [W] officially hold the [X] role?  answer is: [Y]', 'P39', 892, 892, 'No']], [['Does [W] officially hold the position of [X]?  answer is: [Y]', 'P39', 892, 892, 'No']], [['Does [W] officially hold the public [X] position?  answer is: [Y]', 'P39', 892, 892, 'No']], [['Does [W] officially hold the public [X] role?  answer is: [Y]', 'P39', 892, 892, 'No']], [['Does [W] officially hold the public position of [X]?  answer is: [Y]', 'P39', 892, 892, 'No']], [['Does [W] officially hold the public role of [X]?  answer is: [Y]', 'P39', 892, 892, 'No']], [['Does [W] officially hold the role of [X]?  answer is: [Y]', 'P39', 892, 892, 'No']], [[\"Is [W]'s official position [X]?  answer is: [Y]\", 'P39', 889, 892, 'No']], [[\"Is [W]'s official position that of [X]?  answer is: [Y]\", 'P39', 892, 892, 'No']], [[\"Is [W]'s official role [X]?  answer is: [Y]\", 'P39', 891, 892, 'No']], [[\"Is [W]'s official role that of [X]?  answer is: [Y]\", 'P39', 892, 892, 'No']], [[\"Is [W]'s position [X]?  answer is: [Y]\", 'P39', 888, 892, 'No']], [[\"Is [W]'s position that of [X]?  answer is: [Y]\", 'P39', 890, 892, 'No']], [[\"Is [W]'s public position [X]?  answer is: [Y]\", 'P39', 887, 892, 'No']], [[\"Is [W]'s public position that of [X]?  answer is: [Y]\", 'P39', 891, 892, 'No']], [[\"Is [W]'s public role [X]?  answer is: [Y]\", 'P39', 889, 892, 'No']], [[\"Is [W]'s public role that of [X]?  answer is: [Y]\", 'P39', 892, 892, 'No']], [[\"Is [W]'s role [X]?  answer is: [Y]\", 'P39', 886, 892, 'No']], [[\"Is [W]'s role that of [X]?  answer is: [Y]\", 'P39', 892, 892, 'No']], [[\"Was [W]'s official position [X]?  answer is: [Y]\", 'P39', 889, 892, 'No']], [[\"Was [W]'s official position that of [X]?  answer is: [Y]\", 'P39', 891, 892, 'No']], [[\"Was [W]'s official role [X]?  answer is: [Y]\", 'P39', 890, 892, 'No']], [[\"Was [W]'s official role that of [X]?  answer is: [Y]\", 'P39', 892, 892, 'No']], [[\"Was [W]'s position [X]?  answer is: [Y]\", 'P39', 890, 892, 'No']], [[\"Was [W]'s position that of [X]?  answer is: [Y]\", 'P39', 890, 892, 'No']], [[\"Was [W]'s public position [X]?  answer is: [Y]\", 'P39', 882, 892, 'No']], [[\"Was [W]'s public position that of [X]?  answer is: [Y]\", 'P39', 890, 892, 'No']], [[\"Was [W]'s public role [X]?  answer is: [Y]\", 'P39', 881, 892, 'No']], [[\"Was [W]'s public role that of [X]?  answer is: [Y]\", 'P39', 890, 892, 'No']], [[\"Was [W]'s role [X]?  answer is: [Y]\", 'P39', 889, 892, 'No']], [[\"Was [W]'s role that of [X]?  answer is: [Y]\", 'P39', 892, 892, 'No']]], 'P740': [[['Did [W] form in [X]?  answer is: [Y]', 'P740', 884, 936, 'No']], [['Did [W] originate in [X]?  answer is: [Y]', 'P740', 911, 936, 'No']], [['Did [W] start in [X]?  answer is: [Y]', 'P740', 916, 936, 'No']], [['Was [W] created in [X]?  answer is: [Y]', 'P740', 918, 936, 'No']], [['Was [W] formed in [X]?  answer is: [Y]', 'P740', 867, 936, 'No']], [['Was [W] founded in [X]?  answer is: [Y]', 'P740', 921, 936, 'No']], [['Was [W] started in [X]?  answer is: [Y]', 'P740', 677, 936, 'No']]], 'P279': [[['Does [W] belong to the [X] category?  answer is: [Y]', 'P279', 958, 964, 'No']], [['Does [W] have class [X]?  answer is: [Y]', 'P279', 962, 964, 'No']], [['Is [W] a [X]?  answer is: [Y]', 'P279', 946, 964, 'No']], [['Is [W] a kind of [X]?  answer is: [Y]', 'P279', 865, 964, 'No']], [['Is [W] a subclass of [X]?  answer is: [Y]', 'P279', 958, 964, 'No']], [['Is [W] a type of [X]?  answer is: [Y]', 'P279', 872, 964, 'No']], [['Is [W] of class [X]?  answer is: [Y]', 'P279', 878, 964, 'No']], [['Is [X] the class of [W]?  answer is: [Y]', 'P279', 869, 964, 'No']]], 'P30': [[['Does [W] belong to continent [X]?  answer is: [Y]', 'P30', 975, 975, 'No']], [['Does [W] belong to the continent of [X]?  answer is: [Y]', 'P30', 975, 975, 'No']], [['Is [W] a part of continent [X]?  answer is: [Y]', 'P30', 972, 975, 'No']], [['Is [W] a part of the continent [X]?  answer is: [Y]', 'P30', 974, 975, 'No']], [['Is [W] a part of the continent of [X]?  answer is: [Y]', 'P30', 973, 975, 'No']], [['Is [W] located in [X]?  answer is: [Y]', 'P30', 973, 975, 'No']], [['Is [W] located in continent [X]?  answer is: [Y]', 'P30', 975, 975, 'No']], [['Is [W] located in the [X] continent?  answer is: [Y]', 'P30', 969, 975, 'No']], [['Is [W] located in the continent [X]?  answer is: [Y]', 'P30', 972, 975, 'No']], [['Is [W] part of the [X] continent?  answer is: [Y]', 'P30', 972, 975, 'No']], [[\"Is [X] [W]'s continent?  answer is: [Y]\", 'P30', 975, 975, 'No']], [['Is [X] the continent of [W]?  answer is: [Y]', 'P30', 966, 975, 'No']]], 'P495': [[['Did [W] come from [X]?  answer is: [Y]', 'P495', 909, 909, 'No']], [['Did [W] form in [X]?  answer is: [Y]', 'P495', 904, 909, 'No']], [['Did [W] originate in [X]?  answer is: [Y]', 'P495', 905, 909, 'No']], [['Does [W] come from [X]?  answer is: [Y]', 'P495', 909, 909, 'No']], [['Does [W] originate in [X]?  answer is: [Y]', 'P495', 906, 909, 'No']], [['Is [W] formulated in [X]?  answer is: [Y]', 'P495', 891, 909, 'No']], [['Is [W] from [X]?  answer is: [Y]', 'P495', 888, 909, 'No']], [[\"Is [X] [W]'s original country?  answer is: [Y]\", 'P495', 909, 909, 'No']], [['Is [X] the original country of [W]?  answer is: [Y]', 'P495', 908, 909, 'No']], [['Was [W] created in [X]?  answer is: [Y]', 'P495', 905, 909, 'No']], [['Was [W] developed in [X]?  answer is: [Y]', 'P495', 905, 909, 'No']], [['Was [W] first created in [X]?  answer is: [Y]', 'P495', 901, 909, 'No']], [['Was [W] first made in [X]?  answer is: [Y]', 'P495', 906, 909, 'No']], [['Was [W] first produced in [X]?  answer is: [Y]', 'P495', 904, 909, 'No']], [['Was [W] formed in [X]?  answer is: [Y]', 'P495', 892, 909, 'No']], [['Was [W] formulated in [X]?  answer is: [Y]', 'P495', 903, 909, 'No']], [['Was [W] from [X]?  answer is: [Y]', 'P495', 905, 909, 'No']]], 'P103': [[['Does [W] speak [X] as a mother tongue?  answer is: [Y]', 'P103', 965, 977, 'No']], [['Does [W] speak [X] as a native language?  answer is: [Y]', 'P103', 975, 977, 'No']], [[\"Is [X] [W]'s mother tongue?  answer is: [Y]\", 'P103', 855, 977, 'No']], [[\"Is [X] [W]'s native language?  answer is: [Y]\", 'P103', 882, 977, 'No']]], 'P364': [[['Is [X] the language of [W]?  answer is: [Y]', 'P364', 699, 856, 'No']], [['Is [X] the original language of [W]?  answer is: [Y]', 'P364', 807, 856, 'No']], [['Was [W] originally performed in [X]?  answer is: [Y]', 'P364', 493, 856, 'No']], [['Was [W] originally performed in language [X]?  answer is: [Y]', 'P364', 541, 856, 'No']], [['Was [W] originally performed in the [X] language?  answer is: [Y]', 'P364', 447, 856, 'No']], [['Was [W] originally performed in the following language: [X]?  answer is: [Y]', 'P364', 576, 856, 'No']], [['Was [W] originally played in [X]?  answer is: [Y]', 'P364', 660, 856, 'No']], [['Was [W] originally played in language [X]?  answer is: [Y]', 'P364', 628, 856, 'No']], [['Was [W] originally played in the [X] language?  answer is: [Y]', 'P364', 620, 856, 'No']], [['Was [W] originally played in the following language: [X]?  answer is: [Y]', 'P364', 661, 856, 'No']], [['Was [X] the language of [W]?  answer is: [Y]', 'P364', 726, 856, 'No']], [['Was [X] the original language of [W]?  answer is: [Y]', 'P364', 814, 856, 'No']]], 'P19': [[['Did [W] originate from [X]?  answer is: [Y]', 'P19', 916, 944, 'No']], [['Does [W] originate from [X]?  answer is: [Y]', 'P19', 895, 944, 'No']], [['Is [W] a [X]-born person?  answer is: [Y]', 'P19', 932, 944, 'No']], [['Is [W] an [X]-born person?  answer is: [Y]', 'P19', 925, 944, 'No']], [['Is [W] native to [X]?  answer is: [Y]', 'P19', 705, 944, 'No']], [['Is [W] originally from [X]?  answer is: [Y]', 'P19', 321, 944, 'No']], [[\"Is [X] [W]'s birthplace?  answer is: [Y]\", 'P19', 926, 944, 'No']], [[\"Is [X] [W]'s place of birth?  answer is: [Y]\", 'P19', 940, 944, 'No']], [['Was [W] a [X]-born person?  answer is: [Y]', 'P19', 933, 944, 'No']], [['Was [W] an [X]-born person?  answer is: [Y]', 'P19', 930, 944, 'No']], [['Was [W] born in [X]?  answer is: [Y]', 'P19', 931, 944, 'No']], [['Was [W] native to [X]?  answer is: [Y]', 'P19', 553, 944, 'No']], [['Was [W] originally from [X]?  answer is: [Y]', 'P19', 589, 944, 'No']], [[\"Was [X] [W]'s birthplace?  answer is: [Y]\", 'P19', 923, 944, 'No']], [[\"Was [X] [W]'s place of birth?  answer is: [Y]\", 'P19', 939, 944, 'No']]], 'P20': [[['Did [W] die at [X]?  answer is: [Y]', 'P20', 951, 953, 'No']], [['Did [W] die in [X]?  answer is: [Y]', 'P20', 952, 953, 'No']], [['Did [W] expire at [X]?  answer is: [Y]', 'P20', 953, 953, 'No']], [['Did [W] expire in [X]?  answer is: [Y]', 'P20', 953, 953, 'No']], [['Did [W] lose their life at [X]?  answer is: [Y]', 'P20', 953, 953, 'No']], [['Did [W] lose their life in [X]?  answer is: [Y]', 'P20', 953, 953, 'No']], [['Did [W] pass away at [X]?  answer is: [Y]', 'P20', 943, 953, 'No']], [['Did [W] pass away in [X]?  answer is: [Y]', 'P20', 935, 953, 'No']], [['Did [W] succumb at [X]?  answer is: [Y]', 'P20', 951, 953, 'No']], [['Did [W] succumb in [X]?  answer is: [Y]', 'P20', 953, 953, 'No']], [[\"Did [W]'s life end at [X]?  answer is: [Y]\", 'P20', 953, 953, 'No']], [[\"Did [W]'s life end in [X]?  answer is: [Y]\", 'P20', 953, 953, 'No']], [[\"Is [X] [W]'s death location?  answer is: [Y]\", 'P20', 953, 953, 'No']], [[\"Is [X] [W]'s death place?  answer is: [Y]\", 'P20', 953, 953, 'No']], [[\"Is [X] [W]'s place of death?  answer is: [Y]\", 'P20', 953, 953, 'No']], [[\"Was [X] [W]'s death location?  answer is: [Y]\", 'P20', 951, 953, 'No']], [[\"Was [X] [W]'s death place?  answer is: [Y]\", 'P20', 953, 953, 'No']], [[\"Was [X] [W]'s place of death?  answer is: [Y]\", 'P20', 953, 953, 'No']]]}\n",
    "final_no_quest = {\"P108\": [[[\"Does [W] work for [X]? The answer is: [Y]\", \"P108\", 351, 383, \"no\"]], [[\"Is [W] employed by [X]? The answer is: [Y]\", \"P108\", 383, 383, \"no\"]]], \"P937\": [[[\"Did [W] find employment in [X]? The answer is: [Y]\", \"P937\", 896, 954, \"no\"]], [[\"Did [W] take up work in [X]? The answer is: [Y]\", \"P937\", 550, 954, \"no\"]]], \"P39\": [[[\"Did [W] have the [X] position? The answer is: [Y]\", \"P39\", 883, 892, \"no\"]], [[\"Did [W] have the [X] role? The answer is: [Y]\", \"P39\", 892, 892, \"no\"]]], \"P740\": [[[\"Did [W] form in [X]? The answer is: [Y]\", \"P740\", 234, 936, \"no\"]], [[\"Did [W] originate in [X]? The answer is: [Y]\", \"P740\", 223, 936, \"no\"]]], \"P279\": [[[\"Does [W] belong to the [X] category? The answer is: [Y]\", \"P279\", 735, 964, \"no\"]], [[\"Does [W] have class [X]? The answer is: [Y]\", \"P279\", 851, 964, \"no\"]]], \"P30\": [[[\"Does [W] belong to continent [X]? The answer is: [Y]\", \"P30\", 963, 975, \"no\"]], [[\"Does [W] belong to the continent of [X]? The answer is: [Y]\", \"P30\", 875, 975, \"no\"]]], \"P495\": [[[\"Did [W] come from [X]? The answer is: [Y]\", \"P495\", 802, 909, \"no\"]], [[\"Did [W] form in [X]? The answer is: [Y]\", \"P495\", 572, 909, \"no\"]]], \"P103\": [[[\"Does [W] speak [X] as a mother tongue? The answer is: [Y]\", \"P103\", 970, 977, \"no\"]], [[\"Does [W] speak [X] as a native language? The answer is: [Y]\", \"P103\", 971, 977, \"no\"]]], \"P364\": [[[\"Is [X] the language of [W]? The answer is: [Y]\", \"P364\", 445, 856, \"no\"]], [[\"Is [X] the original language of [W]? The answer is: [Y]\", \"P364\", 771, 856, \"no\"]]], \"P19\": [[[\"Did [W] originate from [X]? The answer is: [Y]\", \"P19\", 444, 944, \"no\"]], [[\"Does [W] originate from [X]? The answer is: [Y]\", \"P19\", 547, 944, \"no\"]]], \"P20\": [[[\"Did [W] die at [X]? The answer is: [Y]\", \"P20\", 915, 953, \"no\"]], [[\"Did [W] die in [X]? The answer is: [Y]\", \"P20\", 896, 953, \"no\"]]]}\n",
    "final_list_no = extract_acc(final_no_quest, no_question)\n",
    "df_final_list_no = pd.DataFrame(final_list_no, columns = ['question', 'acc', 'target','fact'])\n",
    "#print(df_final_list_no.head())\n",
    "\n",
    "#answer_is\n",
    "#final_yes_quest = {'P108': [[['Does [W] work for [X]?  answer is: [Y]', 'P108', 0, 383, 'Yes']], [['Is [W] employed by [X]?  answer is: [Y]', 'P108', 0, 383, 'Yes']]], 'P937': [[['Did [W] find employment in [X]?  answer is: [Y]', 'P937', 0, 954, 'Yes']], [['Did [W] take up work in [X]?  answer is: [Y]', 'P937', 0, 954, 'Yes']], [['Did [W] use to work in [X]?  answer is: [Y]', 'P937', 31, 954, 'Yes']], [['Did [W] work in [X]?  answer is: [Y]', 'P937', 16, 954, 'Yes']], [['Does [W] work in [X]?  answer is: [Y]', 'P937', 0, 954, 'Yes']], [['Is [W] employed in [X]?  answer is: [Y]', 'P937', 0, 954, 'Yes']], [[\"Is [X] [W]'s employment location?  answer is: [Y]\", 'P937', 0, 954, 'Yes']], [[\"Is [X] [W]'s location of employment?  answer is: [Y]\", 'P937', 0, 954, 'Yes']], [[\"Is [X] [W]'s work location?  answer is: [Y]\", 'P937', 0, 954, 'Yes']], [['Is [X] where [W] is employed?  answer is: [Y]', 'P937', 0, 954, 'Yes']], [['Is [X] where [W] was employed?  answer is: [Y]', 'P937', 0, 954, 'Yes']], [['Was [W] employed in [X]?  answer is: [Y]', 'P937', 0, 954, 'Yes']], [[\"Was [X] [W]'s employment location?  answer is: [Y]\", 'P937', 0, 954, 'Yes']], [[\"Was [X] [W]'s location of employment?  answer is: [Y]\", 'P937', 0, 954, 'Yes']], [[\"Was [X] [W]'s work location?  answer is: [Y]\", 'P937', 0, 954, 'Yes']]], 'P39': [[['Did [W] have the [X] position?  answer is: [Y]', 'P39', 0, 892, 'Yes']], [['Did [W] have the [X] role?  answer is: [Y]', 'P39', 0, 892, 'Yes']], [['Did [W] have the official [X] position?  answer is: [Y]', 'P39', 0, 892, 'Yes']], [['Did [W] have the official [X] role?  answer is: [Y]', 'P39', 0, 892, 'Yes']], [['Did [W] have the official position of [X]?  answer is: [Y]', 'P39', 2, 892, 'Yes']], [['Did [W] have the official role of [X]?  answer is: [Y]', 'P39', 2, 892, 'Yes']], [['Did [W] have the position of [X]?  answer is: [Y]', 'P39', 5, 892, 'Yes']], [['Did [W] have the public [X] position?  answer is: [Y]', 'P39', 0, 892, 'Yes']], [['Did [W] have the public [X] role?  answer is: [Y]', 'P39', 0, 892, 'Yes']], [['Did [W] have the public position of [X]?  answer is: [Y]', 'P39', 6, 892, 'Yes']], [['Did [W] have the public role of [X]?  answer is: [Y]', 'P39', 8, 892, 'Yes']], [['Did [W] have the role of [X]?  answer is: [Y]', 'P39', 3, 892, 'Yes']], [['Did [W] hold the [X] position?  answer is: [Y]', 'P39', 1, 892, 'Yes']], [['Did [W] hold the [X] role?  answer is: [Y]', 'P39', 1, 892, 'Yes']], [['Did [W] hold the official [X] position?  answer is: [Y]', 'P39', 1, 892, 'Yes']], [['Did [W] hold the official [X] role?  answer is: [Y]', 'P39', 1, 892, 'Yes']], [['Did [W] hold the official position of [X]?  answer is: [Y]', 'P39', 6, 892, 'Yes']], [['Did [W] hold the official role of [X]?  answer is: [Y]', 'P39', 3, 892, 'Yes']], [['Did [W] hold the position of [X]?  answer is: [Y]', 'P39', 7, 892, 'Yes']], [['Did [W] hold the public [X] position?  answer is: [Y]', 'P39', 1, 892, 'Yes']], [['Did [W] hold the public [X] role?  answer is: [Y]', 'P39', 2, 892, 'Yes']], [['Did [W] hold the public position of [X]?  answer is: [Y]', 'P39', 6, 892, 'Yes']], [['Did [W] hold the public role of [X]?  answer is: [Y]', 'P39', 6, 892, 'Yes']], [['Did [W] hold the role of [X]?  answer is: [Y]', 'P39', 5, 892, 'Yes']], [['Did [W] officially hold the [X] position?  answer is: [Y]', 'P39', 0, 892, 'Yes']], [['Did [W] officially hold the [X] role?  answer is: [Y]', 'P39', 0, 892, 'Yes']], [['Did [W] officially hold the position of [X]?  answer is: [Y]', 'P39', 2, 892, 'Yes']], [['Did [W] officially hold the public [X] position?  answer is: [Y]', 'P39', 0, 892, 'Yes']], [['Did [W] officially hold the public [X] role?  answer is: [Y]', 'P39', 0, 892, 'Yes']], [['Did [W] officially hold the public position of [X]?  answer is: [Y]', 'P39', 1, 892, 'Yes']], [['Did [W] officially hold the public role of [X]?  answer is: [Y]', 'P39', 1, 892, 'Yes']], [['Did [W] officially hold the role of [X]?  answer is: [Y]', 'P39', 2, 892, 'Yes']], [['Does [W] have the [X] position?  answer is: [Y]', 'P39', 0, 892, 'Yes']], [['Does [W] have the [X] role?  answer is: [Y]', 'P39', 0, 892, 'Yes']], [['Does [W] have the official [X] position?  answer is: [Y]', 'P39', 0, 892, 'Yes']], [['Does [W] have the official [X] role?  answer is: [Y]', 'P39', 0, 892, 'Yes']], [['Does [W] have the official position of [X]?  answer is: [Y]', 'P39', 0, 892, 'Yes']], [['Does [W] have the official role of [X]?  answer is: [Y]', 'P39', 0, 892, 'Yes']], [['Does [W] have the position of [X]?  answer is: [Y]', 'P39', 0, 892, 'Yes']], [['Does [W] have the public [X] position?  answer is: [Y]', 'P39', 0, 892, 'Yes']], [['Does [W] have the public [X] role?  answer is: [Y]', 'P39', 0, 892, 'Yes']], [['Does [W] have the public position of [X]?  answer is: [Y]', 'P39', 0, 892, 'Yes']], [['Does [W] have the public role of [X]?  answer is: [Y]', 'P39', 0, 892, 'Yes']], [['Does [W] have the role of [X]?  answer is: [Y]', 'P39', 0, 892, 'Yes']], [['Does [W] hold the [X] position?  answer is: [Y]', 'P39', 0, 892, 'Yes']], [['Does [W] hold the [X] role?  answer is: [Y]', 'P39', 0, 892, 'Yes']], [['Does [W] hold the official [X] position?  answer is: [Y]', 'P39', 0, 892, 'Yes']], [['Does [W] hold the official [X] role?  answer is: [Y]', 'P39', 0, 892, 'Yes']], [['Does [W] hold the official position of [X]?  answer is: [Y]', 'P39', 0, 892, 'Yes']], [['Does [W] hold the official role of [X]?  answer is: [Y]', 'P39', 0, 892, 'Yes']], [['Does [W] hold the position of [X]?  answer is: [Y]', 'P39', 0, 892, 'Yes']], [['Does [W] hold the public [X] position?  answer is: [Y]', 'P39', 0, 892, 'Yes']], [['Does [W] hold the public [X] role?  answer is: [Y]', 'P39', 0, 892, 'Yes']], [['Does [W] hold the public position of [X]?  answer is: [Y]', 'P39', 0, 892, 'Yes']], [['Does [W] hold the public role of [X]?  answer is: [Y]', 'P39', 0, 892, 'Yes']], [['Does [W] hold the role of [X]?  answer is: [Y]', 'P39', 0, 892, 'Yes']], [['Does [W] officially hold the [X] position?  answer is: [Y]', 'P39', 0, 892, 'Yes']], [['Does [W] officially hold the [X] role?  answer is: [Y]', 'P39', 0, 892, 'Yes']], [['Does [W] officially hold the position of [X]?  answer is: [Y]', 'P39', 0, 892, 'Yes']], [['Does [W] officially hold the public [X] position?  answer is: [Y]', 'P39', 0, 892, 'Yes']], [['Does [W] officially hold the public [X] role?  answer is: [Y]', 'P39', 0, 892, 'Yes']], [['Does [W] officially hold the public position of [X]?  answer is: [Y]', 'P39', 0, 892, 'Yes']], [['Does [W] officially hold the public role of [X]?  answer is: [Y]', 'P39', 0, 892, 'Yes']], [['Does [W] officially hold the role of [X]?  answer is: [Y]', 'P39', 0, 892, 'Yes']], [[\"Is [W]'s official position [X]?  answer is: [Y]\", 'P39', 2, 892, 'Yes']], [[\"Is [W]'s official position that of [X]?  answer is: [Y]\", 'P39', 0, 892, 'Yes']], [[\"Is [W]'s official role [X]?  answer is: [Y]\", 'P39', 1, 892, 'Yes']], [[\"Is [W]'s official role that of [X]?  answer is: [Y]\", 'P39', 1, 892, 'Yes']], [[\"Is [W]'s position [X]?  answer is: [Y]\", 'P39', 3, 892, 'Yes']], [[\"Is [W]'s position that of [X]?  answer is: [Y]\", 'P39', 2, 892, 'Yes']], [[\"Is [W]'s public position [X]?  answer is: [Y]\", 'P39', 4, 892, 'Yes']], [[\"Is [W]'s public position that of [X]?  answer is: [Y]\", 'P39', 2, 892, 'Yes']], [[\"Is [W]'s public role [X]?  answer is: [Y]\", 'P39', 4, 892, 'Yes']], [[\"Is [W]'s public role that of [X]?  answer is: [Y]\", 'P39', 3, 892, 'Yes']], [[\"Is [W]'s role [X]?  answer is: [Y]\", 'P39', 3, 892, 'Yes']], [[\"Is [W]'s role that of [X]?  answer is: [Y]\", 'P39', 2, 892, 'Yes']], [[\"Was [W]'s official position [X]?  answer is: [Y]\", 'P39', 3, 892, 'Yes']], [[\"Was [W]'s official position that of [X]?  answer is: [Y]\", 'P39', 0, 892, 'Yes']], [[\"Was [W]'s official role [X]?  answer is: [Y]\", 'P39', 3, 892, 'Yes']], [[\"Was [W]'s official role that of [X]?  answer is: [Y]\", 'P39', 2, 892, 'Yes']], [[\"Was [W]'s position [X]?  answer is: [Y]\", 'P39', 3, 892, 'Yes']], [[\"Was [W]'s position that of [X]?  answer is: [Y]\", 'P39', 2, 892, 'Yes']], [[\"Was [W]'s public position [X]?  answer is: [Y]\", 'P39', 6, 892, 'Yes']], [[\"Was [W]'s public position that of [X]?  answer is: [Y]\", 'P39', 2, 892, 'Yes']], [[\"Was [W]'s public role [X]?  answer is: [Y]\", 'P39', 6, 892, 'Yes']], [[\"Was [W]'s public role that of [X]?  answer is: [Y]\", 'P39', 4, 892, 'Yes']], [[\"Was [W]'s role [X]?  answer is: [Y]\", 'P39', 3, 892, 'Yes']], [[\"Was [W]'s role that of [X]?  answer is: [Y]\", 'P39', 2, 892, 'Yes']]], 'P740': [[['Did [W] form in [X]?  answer is: [Y]', 'P740', 52, 936, 'Yes']], [['Did [W] originate in [X]?  answer is: [Y]', 'P740', 22, 936, 'Yes']], [['Did [W] start in [X]?  answer is: [Y]', 'P740', 19, 936, 'Yes']], [['Was [W] created in [X]?  answer is: [Y]', 'P740', 8, 936, 'Yes']], [['Was [W] formed in [X]?  answer is: [Y]', 'P740', 61, 936, 'Yes']], [['Was [W] founded in [X]?  answer is: [Y]', 'P740', 11, 936, 'Yes']], [['Was [W] started in [X]?  answer is: [Y]', 'P740', 264, 936, 'Yes']]], 'P279': [[['Does [W] belong to the [X] category?  answer is: [Y]', 'P279', 10, 964, 'Yes']], [['Does [W] have class [X]?  answer is: [Y]', 'P279', 5, 964, 'Yes']], [['Is [W] a [X]?  answer is: [Y]', 'P279', 22, 964, 'Yes']], [['Is [W] a kind of [X]?  answer is: [Y]', 'P279', 132, 964, 'Yes']], [['Is [W] a subclass of [X]?  answer is: [Y]', 'P279', 14, 964, 'Yes']], [['Is [W] a type of [X]?  answer is: [Y]', 'P279', 134, 964, 'Yes']], [['Is [W] of class [X]?  answer is: [Y]', 'P279', 144, 964, 'Yes']], [['Is [X] the class of [W]?  answer is: [Y]', 'P279', 88, 964, 'Yes']]], 'P30': [[['Does [W] belong to continent [X]?  answer is: [Y]', 'P30', 0, 975, 'Yes']], [['Does [W] belong to the continent of [X]?  answer is: [Y]', 'P30', 0, 975, 'Yes']], [['Is [W] a part of continent [X]?  answer is: [Y]', 'P30', 3, 975, 'Yes']], [['Is [W] a part of the continent [X]?  answer is: [Y]', 'P30', 0, 975, 'Yes']], [['Is [W] a part of the continent of [X]?  answer is: [Y]', 'P30', 2, 975, 'Yes']], [['Is [W] located in [X]?  answer is: [Y]', 'P30', 3, 975, 'Yes']], [['Is [W] located in continent [X]?  answer is: [Y]', 'P30', 1, 975, 'Yes']], [['Is [W] located in the [X] continent?  answer is: [Y]', 'P30', 5, 975, 'Yes']], [['Is [W] located in the continent [X]?  answer is: [Y]', 'P30', 1, 975, 'Yes']], [['Is [W] part of the [X] continent?  answer is: [Y]', 'P30', 4, 975, 'Yes']], [[\"Is [X] [W]'s continent?  answer is: [Y]\", 'P30', 0, 975, 'Yes']], [['Is [X] the continent of [W]?  answer is: [Y]', 'P30', 2, 975, 'Yes']]], 'P495': [[['Did [W] come from [X]?  answer is: [Y]', 'P495', 0, 909, 'Yes']], [['Did [W] form in [X]?  answer is: [Y]', 'P495', 10, 909, 'Yes']], [['Did [W] originate in [X]?  answer is: [Y]', 'P495', 3, 909, 'Yes']], [['Does [W] come from [X]?  answer is: [Y]', 'P495', 0, 909, 'Yes']], [['Does [W] originate in [X]?  answer is: [Y]', 'P495', 1, 909, 'Yes']], [['Is [W] formulated in [X]?  answer is: [Y]', 'P495', 12, 909, 'Yes']], [['Is [W] from [X]?  answer is: [Y]', 'P495', 14, 909, 'Yes']], [[\"Is [X] [W]'s original country?  answer is: [Y]\", 'P495', 0, 909, 'Yes']], [['Is [X] the original country of [W]?  answer is: [Y]', 'P495', 1, 909, 'Yes']], [['Was [W] created in [X]?  answer is: [Y]', 'P495', 2, 909, 'Yes']], [['Was [W] developed in [X]?  answer is: [Y]', 'P495', 3, 909, 'Yes']], [['Was [W] first created in [X]?  answer is: [Y]', 'P495', 11, 909, 'Yes']], [['Was [W] first made in [X]?  answer is: [Y]', 'P495', 2, 909, 'Yes']], [['Was [W] first produced in [X]?  answer is: [Y]', 'P495', 6, 909, 'Yes']], [['Was [W] formed in [X]?  answer is: [Y]', 'P495', 11, 909, 'Yes']], [['Was [W] formulated in [X]?  answer is: [Y]', 'P495', 4, 909, 'Yes']], [['Was [W] from [X]?  answer is: [Y]', 'P495', 6, 909, 'Yes']]], 'P103': [[['Does [W] speak [X] as a mother tongue?  answer is: [Y]', 'P103', 15, 977, 'Yes']], [['Does [W] speak [X] as a native language?  answer is: [Y]', 'P103', 3, 977, 'Yes']], [[\"Is [X] [W]'s mother tongue?  answer is: [Y]\", 'P103', 63, 977, 'Yes']], [[\"Is [X] [W]'s native language?  answer is: [Y]\", 'P103', 59, 977, 'Yes']]], 'P364': [[['Is [X] the language of [W]?  answer is: [Y]', 'P364', 89, 856, 'Yes']], [['Is [X] the original language of [W]?  answer is: [Y]', 'P364', 14, 856, 'Yes']], [['Was [W] originally performed in [X]?  answer is: [Y]', 'P364', 316, 856, 'Yes']], [['Was [W] originally performed in language [X]?  answer is: [Y]', 'P364', 296, 856, 'Yes']], [['Was [W] originally performed in the [X] language?  answer is: [Y]', 'P364', 329, 856, 'Yes']], [['Was [W] originally performed in the following language: [X]?  answer is: [Y]', 'P364', 226, 856, 'Yes']], [['Was [W] originally played in [X]?  answer is: [Y]', 'P364', 192, 856, 'Yes']], [['Was [W] originally played in language [X]?  answer is: [Y]', 'P364', 234, 856, 'Yes']], [['Was [W] originally played in the [X] language?  answer is: [Y]', 'P364', 145, 856, 'Yes']], [['Was [W] originally played in the following language: [X]?  answer is: [Y]', 'P364', 132, 856, 'Yes']], [['Was [X] the language of [W]?  answer is: [Y]', 'P364', 118, 856, 'Yes']], [['Was [X] the original language of [W]?  answer is: [Y]', 'P364', 23, 856, 'Yes']]], 'P19': [[['Did [W] originate from [X]?  answer is: [Y]', 'P19', 20, 944, 'Yes']], [['Does [W] originate from [X]?  answer is: [Y]', 'P19', 26, 944, 'Yes']], [['Is [W] a [X]-born person?  answer is: [Y]', 'P19', 14, 944, 'Yes']], [['Is [W] an [X]-born person?  answer is: [Y]', 'P19', 12, 944, 'Yes']], [['Is [W] native to [X]?  answer is: [Y]', 'P19', 159, 944, 'Yes']], [['Is [W] originally from [X]?  answer is: [Y]', 'P19', 564, 944, 'Yes']], [[\"Is [X] [W]'s birthplace?  answer is: [Y]\", 'P19', 10, 944, 'Yes']], [[\"Is [X] [W]'s place of birth?  answer is: [Y]\", 'P19', 4, 944, 'Yes']], [['Was [W] a [X]-born person?  answer is: [Y]', 'P19', 9, 944, 'Yes']], [['Was [W] an [X]-born person?  answer is: [Y]', 'P19', 10, 944, 'Yes']], [['Was [W] born in [X]?  answer is: [Y]', 'P19', 10, 944, 'Yes']], [['Was [W] native to [X]?  answer is: [Y]', 'P19', 327, 944, 'Yes']], [['Was [W] originally from [X]?  answer is: [Y]', 'P19', 299, 944, 'Yes']], [[\"Was [X] [W]'s birthplace?  answer is: [Y]\", 'P19', 15, 944, 'Yes']], [[\"Was [X] [W]'s place of birth?  answer is: [Y]\", 'P19', 10, 944, 'Yes']]], 'P20': [[['Did [W] die at [X]?  answer is: [Y]', 'P20', 1, 953, 'Yes']], [['Did [W] die in [X]?  answer is: [Y]', 'P20', 2, 953, 'Yes']], [['Did [W] expire at [X]?  answer is: [Y]', 'P20', 1, 953, 'Yes']], [['Did [W] expire in [X]?  answer is: [Y]', 'P20', 4, 953, 'Yes']], [['Did [W] lose their life at [X]?  answer is: [Y]', 'P20', 0, 953, 'Yes']], [['Did [W] lose their life in [X]?  answer is: [Y]', 'P20', 1, 953, 'Yes']], [['Did [W] pass away at [X]?  answer is: [Y]', 'P20', 10, 953, 'Yes']], [['Did [W] pass away in [X]?  answer is: [Y]', 'P20', 24, 953, 'Yes']], [['Did [W] succumb at [X]?  answer is: [Y]', 'P20', 2, 953, 'Yes']], [['Did [W] succumb in [X]?  answer is: [Y]', 'P20', 2, 953, 'Yes']], [[\"Did [W]'s life end at [X]?  answer is: [Y]\", 'P20', 0, 953, 'Yes']], [[\"Did [W]'s life end in [X]?  answer is: [Y]\", 'P20', 0, 953, 'Yes']], [[\"Is [X] [W]'s death location?  answer is: [Y]\", 'P20', 2, 953, 'Yes']], [[\"Is [X] [W]'s death place?  answer is: [Y]\", 'P20', 1, 953, 'Yes']], [[\"Is [X] [W]'s place of death?  answer is: [Y]\", 'P20', 0, 953, 'Yes']], [[\"Was [X] [W]'s death location?  answer is: [Y]\", 'P20', 4, 953, 'Yes']], [[\"Was [X] [W]'s death place?  answer is: [Y]\", 'P20', 1, 953, 'Yes']], [[\"Was [X] [W]'s place of death?  answer is: [Y]\", 'P20', 0, 953, 'Yes']]]}\n",
    "final_yes_quest = {\"P108\": [[[\"Does [W] work for [X]? The answer is: [Y]\", \"P108\", 7, 383, \"yes\"]], [[\"Is [W] employed by [X]? The answer is: [Y]\", \"P108\", 0, 383, \"yes\"]]], \"P937\": [[[\"Did [W] find employment in [X]? The answer is: [Y]\", \"P937\", 68, 954, \"yes\"]], [[\"Did [W] take up work in [X]? The answer is: [Y]\", \"P937\", 405, 954, \"yes\"]]], \"P39\": [[[\"Did [W] have the [X] position? The answer is: [Y]\", \"P39\", 9, 892, \"yes\"]], [[\"Did [W] have the [X] role? The answer is: [Y]\", \"P39\", 0, 892, \"yes\"]]], \"P740\": [[[\"Did [W] form in [X]? The answer is: [Y]\", \"P740\", 749, 936, \"yes\"]], [[\"Did [W] originate in [X]? The answer is: [Y]\", \"P740\", 743, 936, \"yes\"]]], \"P279\": [[[\"Does [W] belong to the [X] category? The answer is: [Y]\", \"P279\", 326, 964, \"yes\"]], [[\"Does [W] have class [X]? The answer is: [Y]\", \"P279\", 124, 964, \"yes\"]]], \"P30\": [[[\"Does [W] belong to continent [X]? The answer is: [Y]\", \"P30\", 30, 975, \"yes\"]], [[\"Does [W] belong to the continent of [X]? The answer is: [Y]\", \"P30\", 322, 975, \"yes\"]]], \"P495\": [[[\"Did [W] come from [X]? The answer is: [Y]\", \"P495\", 123, 909, \"yes\"]], [[\"Did [W] form in [X]? The answer is: [Y]\", \"P495\", 423, 909, \"yes\"]]], \"P103\": [[[\"Does [W] speak [X] as a mother tongue? The answer is: [Y]\", \"P103\", 3, 977, \"yes\"]], [[\"Does [W] speak [X] as a native language? The answer is: [Y]\", \"P103\", 4, 977, \"yes\"]]], \"P364\": [[[\"Is [X] the language of [W]? The answer is: [Y]\", \"P364\", 489, 856, \"yes\"]], [[\"Is [X] the original language of [W]? The answer is: [Y]\", \"P364\", 74, 856, \"yes\"]]], \"P19\": [[[\"Did [W] originate from [X]? The answer is: [Y]\", \"P19\", 526, 944, \"yes\"]], [[\"Does [W] originate from [X]? The answer is: [Y]\", \"P19\", 416, 944, \"yes\"]]], \"P20\": [[[\"Did [W] die at [X]? The answer is: [Y]\", \"P20\", 28, 953, \"yes\"]], [[\"Did [W] die in [X]? The answer is: [Y]\", \"P20\", 40, 953, \"yes\"]]]}\n",
    "final_list_yes = extract_acc(final_yes_quest, yes_question)\n",
    "df_final_list_yes = pd.DataFrame(final_list_yes, columns = ['question', 'acc', 'target','fact'])\n",
    "#print(df_final_list_yes.head())\n",
    "\n",
    "df_master = pd.merge(df_final_list_yes, df_final_list_no, on='question')\n",
    "#df_master.head()\n",
    "df_master['accuracy'] = df_master['acc_x'] + df_master['acc_y']\n",
    "#df_master.head()\n",
    "df_master = df_master.sort_values(by=['fact_x'])\n",
    "#df_master.head(20)\n",
    "\n",
    "# is the same to use fact_x and fact_y\n",
    "df_group = df_master.groupby(['fact_x']).max()\n",
    "df_group.head()\n",
    "\n",
    "df_final = df_group[['question', 'accuracy']]\n",
    "df_final.head()\n",
    "\n",
    "df_final.to_csv(\"question_\"+question_+\".csv\")"
   ]
  },
  {
   "cell_type": "code",
   "execution_count": 13,
   "id": "83d2f3dc",
   "metadata": {},
   "outputs": [
    {
     "name": "stdout",
     "output_type": "stream",
     "text": [
      "{'P103': [[['Does [W] speak [X] as a mother tongue? The answer is: [Y]',\n",
      "            'P103',\n",
      "            970,\n",
      "            977,\n",
      "            'no']],\n",
      "          [['Does [W] speak [X] as a native language? The answer is: [Y]',\n",
      "            'P103',\n",
      "            971,\n",
      "            977,\n",
      "            'no']]],\n",
      " 'P108': [[['Does [W] work for [X]? The answer is: [Y]',\n",
      "            'P108',\n",
      "            351,\n",
      "            383,\n",
      "            'no']],\n",
      "          [['Is [W] employed by [X]? The answer is: [Y]',\n",
      "            'P108',\n",
      "            383,\n",
      "            383,\n",
      "            'no']]],\n",
      " 'P19': [[['Did [W] originate from [X]? The answer is: [Y]',\n",
      "           'P19',\n",
      "           444,\n",
      "           944,\n",
      "           'no']],\n",
      "         [['Does [W] originate from [X]? The answer is: [Y]',\n",
      "           'P19',\n",
      "           547,\n",
      "           944,\n",
      "           'no']]],\n",
      " 'P20': [[['Did [W] die at [X]? The answer is: [Y]', 'P20', 915, 953, 'no']],\n",
      "         [['Did [W] die in [X]? The answer is: [Y]', 'P20', 896, 953, 'no']]],\n",
      " 'P279': [[['Does [W] belong to the [X] category? The answer is: [Y]',\n",
      "            'P279',\n",
      "            735,\n",
      "            964,\n",
      "            'no']],\n",
      "          [['Does [W] have class [X]? The answer is: [Y]',\n",
      "            'P279',\n",
      "            851,\n",
      "            964,\n",
      "            'no']]],\n",
      " 'P30': [[['Does [W] belong to continent [X]? The answer is: [Y]',\n",
      "           'P30',\n",
      "           963,\n",
      "           975,\n",
      "           'no']],\n",
      "         [['Does [W] belong to the continent of [X]? The answer is: [Y]',\n",
      "           'P30',\n",
      "           875,\n",
      "           975,\n",
      "           'no']]],\n",
      " 'P364': [[['Is [X] the language of [W]? The answer is: [Y]',\n",
      "            'P364',\n",
      "            445,\n",
      "            856,\n",
      "            'no']],\n",
      "          [['Is [X] the original language of [W]? The answer is: [Y]',\n",
      "            'P364',\n",
      "            771,\n",
      "            856,\n",
      "            'no']]],\n",
      " 'P39': [[['Did [W] have the [X] position? The answer is: [Y]',\n",
      "           'P39',\n",
      "           883,\n",
      "           892,\n",
      "           'no']],\n",
      "         [['Did [W] have the [X] role? The answer is: [Y]',\n",
      "           'P39',\n",
      "           892,\n",
      "           892,\n",
      "           'no']]],\n",
      " 'P495': [[['Did [W] come from [X]? The answer is: [Y]',\n",
      "            'P495',\n",
      "            802,\n",
      "            909,\n",
      "            'no']],\n",
      "          [['Did [W] form in [X]? The answer is: [Y]',\n",
      "            'P495',\n",
      "            572,\n",
      "            909,\n",
      "            'no']]],\n",
      " 'P740': [[['Did [W] form in [X]? The answer is: [Y]', 'P740', 234, 936, 'no']],\n",
      "          [['Did [W] originate in [X]? The answer is: [Y]',\n",
      "            'P740',\n",
      "            223,\n",
      "            936,\n",
      "            'no']]],\n",
      " 'P937': [[['Did [W] find employment in [X]? The answer is: [Y]',\n",
      "            'P937',\n",
      "            896,\n",
      "            954,\n",
      "            'no']],\n",
      "          [['Did [W] take up work in [X]? The answer is: [Y]',\n",
      "            'P937',\n",
      "            550,\n",
      "            954,\n",
      "            'no']]]}\n"
     ]
    }
   ],
   "source": [
    "import pprint\n",
    "pprint.pprint(final_no_quest)"
   ]
  },
  {
   "cell_type": "code",
   "execution_count": 30,
   "id": "c17ad103",
   "metadata": {},
   "outputs": [
    {
     "data": {
      "text/html": [
       "<div>\n",
       "<style scoped>\n",
       "    .dataframe tbody tr th:only-of-type {\n",
       "        vertical-align: middle;\n",
       "    }\n",
       "\n",
       "    .dataframe tbody tr th {\n",
       "        vertical-align: top;\n",
       "    }\n",
       "\n",
       "    .dataframe thead th {\n",
       "        text-align: right;\n",
       "    }\n",
       "</style>\n",
       "<table border=\"1\" class=\"dataframe\">\n",
       "  <thead>\n",
       "    <tr style=\"text-align: right;\">\n",
       "      <th></th>\n",
       "      <th>question</th>\n",
       "      <th>accuracy</th>\n",
       "    </tr>\n",
       "    <tr>\n",
       "      <th>fact_x</th>\n",
       "      <th></th>\n",
       "      <th></th>\n",
       "    </tr>\n",
       "  </thead>\n",
       "  <tbody>\n",
       "    <tr>\n",
       "      <th>P103</th>\n",
       "      <td>Is [X] [W]'s native language? the answer is: [Y]</td>\n",
       "      <td>0.463153</td>\n",
       "    </tr>\n",
       "    <tr>\n",
       "      <th>P108</th>\n",
       "      <td>Is [W] employed by [X]? the answer is: [Y]</td>\n",
       "      <td>0.609661</td>\n",
       "    </tr>\n",
       "    <tr>\n",
       "      <th>P19</th>\n",
       "      <td>Was [X] [W]'s place of birth? the answer is: [Y]</td>\n",
       "      <td>0.491525</td>\n",
       "    </tr>\n",
       "    <tr>\n",
       "      <th>P20</th>\n",
       "      <td>Was [X] [W]'s place of death? the answer is: [Y]</td>\n",
       "      <td>0.512592</td>\n",
       "    </tr>\n",
       "    <tr>\n",
       "      <th>P279</th>\n",
       "      <td>Is [X] the class of [W]? the answer is: [Y]</td>\n",
       "      <td>0.542531</td>\n",
       "    </tr>\n",
       "  </tbody>\n",
       "</table>\n",
       "</div>"
      ],
      "text/plain": [
       "                                                question  accuracy\n",
       "fact_x                                                            \n",
       "P103    Is [X] [W]'s native language? the answer is: [Y]  0.463153\n",
       "P108          Is [W] employed by [X]? the answer is: [Y]  0.609661\n",
       "P19     Was [X] [W]'s place of birth? the answer is: [Y]  0.491525\n",
       "P20     Was [X] [W]'s place of death? the answer is: [Y]  0.512592\n",
       "P279         Is [X] the class of [W]? the answer is: [Y]  0.542531"
      ]
     },
     "execution_count": 30,
     "metadata": {},
     "output_type": "execute_result"
    }
   ],
   "source": [
    "df_final.head()"
   ]
  },
  {
   "cell_type": "code",
   "execution_count": null,
   "id": "71205a83",
   "metadata": {},
   "outputs": [],
   "source": []
  },
  {
   "cell_type": "code",
   "execution_count": 18,
   "id": "a5be2998",
   "metadata": {},
   "outputs": [
    {
     "ename": "NameError",
     "evalue": "name 'current_time' is not defined",
     "output_type": "error",
     "traceback": [
      "\u001b[0;31m---------------------------------------------------------------------------\u001b[0m",
      "\u001b[0;31mNameError\u001b[0m                                 Traceback (most recent call last)",
      "Input \u001b[0;32mIn [18]\u001b[0m, in \u001b[0;36m<cell line: 1>\u001b[0;34m()\u001b[0m\n\u001b[0;32m----> 1\u001b[0m \u001b[38;5;28mtype\u001b[39m(\u001b[43mcurrent_time\u001b[49m)\n",
      "\u001b[0;31mNameError\u001b[0m: name 'current_time' is not defined"
     ]
    }
   ],
   "source": [
    "type(current_time)"
   ]
  },
  {
   "cell_type": "code",
   "execution_count": null,
   "id": "da05d1d5",
   "metadata": {},
   "outputs": [],
   "source": []
  },
  {
   "cell_type": "code",
   "execution_count": null,
   "id": "2c7e6c34",
   "metadata": {},
   "outputs": [],
   "source": []
  },
  {
   "cell_type": "code",
   "execution_count": null,
   "id": "5014b370",
   "metadata": {},
   "outputs": [],
   "source": []
  },
  {
   "cell_type": "code",
   "execution_count": null,
   "id": "b5311949",
   "metadata": {},
   "outputs": [],
   "source": []
  },
  {
   "cell_type": "code",
   "execution_count": null,
   "id": "2571d8ce",
   "metadata": {},
   "outputs": [],
   "source": []
  },
  {
   "cell_type": "code",
   "execution_count": null,
   "id": "00731031",
   "metadata": {},
   "outputs": [],
   "source": []
  },
  {
   "cell_type": "code",
   "execution_count": null,
   "id": "34b20431",
   "metadata": {},
   "outputs": [],
   "source": []
  },
  {
   "cell_type": "code",
   "execution_count": null,
   "id": "6449c1a9",
   "metadata": {},
   "outputs": [],
   "source": []
  },
  {
   "cell_type": "code",
   "execution_count": null,
   "id": "09cdf69c",
   "metadata": {},
   "outputs": [],
   "source": []
  },
  {
   "cell_type": "code",
   "execution_count": null,
   "id": "7340d690",
   "metadata": {},
   "outputs": [],
   "source": []
  },
  {
   "cell_type": "code",
   "execution_count": null,
   "id": "ea4bd9eb",
   "metadata": {},
   "outputs": [],
   "source": []
  },
  {
   "cell_type": "code",
   "execution_count": null,
   "id": "cd0f932b",
   "metadata": {},
   "outputs": [],
   "source": []
  },
  {
   "cell_type": "code",
   "execution_count": null,
   "id": "651c841f",
   "metadata": {},
   "outputs": [],
   "source": []
  },
  {
   "cell_type": "code",
   "execution_count": null,
   "id": "c4c554a4",
   "metadata": {},
   "outputs": [],
   "source": []
  },
  {
   "cell_type": "code",
   "execution_count": null,
   "id": "0e061f1f",
   "metadata": {},
   "outputs": [],
   "source": []
  }
 ],
 "metadata": {
  "kernelspec": {
   "display_name": "Pytorch",
   "language": "python",
   "name": "pytorch"
  },
  "language_info": {
   "codemirror_mode": {
    "name": "ipython",
    "version": 3
   },
   "file_extension": ".py",
   "mimetype": "text/x-python",
   "name": "python",
   "nbconvert_exporter": "python",
   "pygments_lexer": "ipython3",
   "version": "3.7.11"
  }
 },
 "nbformat": 4,
 "nbformat_minor": 5
}
