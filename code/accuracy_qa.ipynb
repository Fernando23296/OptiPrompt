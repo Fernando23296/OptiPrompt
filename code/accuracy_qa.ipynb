{
 "cells": [
  {
   "cell_type": "code",
   "execution_count": 9,
   "id": "f33cff99",
   "metadata": {},
   "outputs": [],
   "source": [
    "import os\n",
    "import json"
   ]
  },
  {
   "cell_type": "code",
   "execution_count": 49,
   "id": "d909dc4c",
   "metadata": {},
   "outputs": [],
   "source": [
    "def get_max_binary(record):\n",
    "    RECORD\n",
    "    max_binary = record['topk'][0]['token']\n",
    "    return max_binary"
   ]
  },
  {
   "cell_type": "code",
   "execution_count": 113,
   "id": "dadd6e1b",
   "metadata": {},
   "outputs": [],
   "source": [
    "def count_binary(json_file, target):\n",
    "    count_target = 0\n",
    "    for i in range(len(json_file)):\n",
    "        if get_max_binary(json_file[i]) == target:\n",
    "            count_target += 1\n",
    "    total = len(json_file)\n",
    "    return count_target, total\n"
   ]
  },
  {
   "cell_type": "code",
   "execution_count": 122,
   "id": "34d320b5",
   "metadata": {},
   "outputs": [
    {
     "name": "stdout",
     "output_type": "stream",
     "text": [
      "['P108.jsonl', 'P937.jsonl', 'P39.jsonl', 'P740.jsonl', 'P279.jsonl', 'P30.jsonl', 'P495.jsonl', 'P103.jsonl', 'P364.jsonl', 'P19.jsonl', 'P20.jsonl']\n"
     ]
    }
   ],
   "source": [
    "directory_path = \"../output/LAMA_relations/facebook_opt-350m/\"\n",
    "directory_files = os.listdir(directory_path)\n",
    "print(directory_files)"
   ]
  },
  {
   "cell_type": "code",
   "execution_count": 126,
   "id": "e1e441ee",
   "metadata": {},
   "outputs": [
    {
     "name": "stdout",
     "output_type": "stream",
     "text": [
      "{'uuid': 'ae9e5e0e-a663-4a24-b705-9d7803f177d9', 'relation': 'P108', 'sub_label': 'Steve Jobs', 'sub_label_2': 'Apple', 'obj_label': 'Yes', 'masked_sentences': ['Is Steve Jobs employed by Apple? The answer is: [MASK]'], 'topk': [{'token': 'No', 'log_prob': -1.970453143119812}, {'token': 'Yes', 'log_prob': -2.4536197185516357}]}\n"
     ]
    }
   ],
   "source": [
    "d_ex = [directory_path+'P108.jsonl']\n",
    "dd = load_jsonl(d_ex[0])\n",
    "print(dd[0])"
   ]
  },
  {
   "cell_type": "code",
   "execution_count": 124,
   "id": "64a86ee4",
   "metadata": {},
   "outputs": [],
   "source": [
    "def load_jsonl(file_name):\n",
    "    with open(file_name, 'r') as json_file:\n",
    "        json_list = list(json_file)\n",
    "    all_dicts = []\n",
    "    for json_str in json_list:\n",
    "        all_dicts.append(json.loads(json_str))\n",
    "        \n",
    "    return all_dicts"
   ]
  },
  {
   "cell_type": "code",
   "execution_count": 118,
   "id": "78c7c9b6",
   "metadata": {},
   "outputs": [
    {
     "name": "stdout",
     "output_type": "stream",
     "text": [
      "../output/LAMA_relations/facebook_opt-350m/P108.jsonl\n",
      "../output/LAMA_relations/facebook_opt-350m/P937.jsonl\n",
      "../output/LAMA_relations/facebook_opt-350m/P39.jsonl\n",
      "../output/LAMA_relations/facebook_opt-350m/P19_FALSE_CON_IF_EN_VOCAB.jsonl\n",
      "../output/LAMA_relations/facebook_opt-350m/p39_untrusted.jsonl\n",
      "../output/LAMA_relations/facebook_opt-350m/P740.jsonl\n",
      "../output/LAMA_relations/facebook_opt-350m/P279.jsonl\n",
      "../output/LAMA_relations/facebook_opt-350m/P19_0_quiza.jsonl\n",
      "../output/LAMA_relations/facebook_opt-350m/P30.jsonl\n",
      "../output/LAMA_relations/facebook_opt-350m/P495.jsonl\n",
      "../output/LAMA_relations/facebook_opt-350m/P103.jsonl\n",
      "../output/LAMA_relations/facebook_opt-350m/P364.jsonl\n",
      "../output/LAMA_relations/facebook_opt-350m/P19.jsonl\n",
      "../output/LAMA_relations/facebook_opt-350m/P20.jsonl\n"
     ]
    }
   ],
   "source": [
    "count_results = []\n",
    "for df in directory_files:\n",
    "    jsonl_file = load_jsonl(directory_path + df)\n",
    "    print(directory_path + df)\n",
    "    # Precaution: works when the whole file have the same target\n",
    "    target = jsonl_file[0]['obj_label']\n",
    "    \n",
    "    count_target, total = count_binary(jsonl_file, target)\n",
    "    \n",
    "    count_results.append([df, count_target, total, target])"
   ]
  },
  {
   "cell_type": "code",
   "execution_count": 119,
   "id": "6ff7ad08",
   "metadata": {},
   "outputs": [
    {
     "data": {
      "text/plain": [
       "[['P108.jsonl', 104, 383, 'Yes'],\n",
       " ['P937.jsonl', 210, 954, 'Yes'],\n",
       " ['P39.jsonl', 3, 892, 'Yes'],\n",
       " ['P19_FALSE_CON_IF_EN_VOCAB.jsonl', 0, 704, 'Scotland'],\n",
       " ['p39_untrusted.jsonl', 0, 306, 'bishop'],\n",
       " ['P740.jsonl', 740, 936, 'Yes'],\n",
       " ['P279.jsonl', 24, 964, 'Yes'],\n",
       " ['P19_0_quiza.jsonl', 29, 944, 'Yes'],\n",
       " ['P30.jsonl', 4, 975, 'Yes'],\n",
       " ['P495.jsonl', 102, 909, 'Yes'],\n",
       " ['P103.jsonl', 476, 977, 'Yes'],\n",
       " ['P364.jsonl', 570, 856, 'Yes'],\n",
       " ['P19.jsonl', 450, 944, 'Yes'],\n",
       " ['P20.jsonl', 164, 953, 'Yes']]"
      ]
     },
     "execution_count": 119,
     "metadata": {},
     "output_type": "execute_result"
    }
   ],
   "source": [
    "count_results"
   ]
  },
  {
   "cell_type": "code",
   "execution_count": null,
   "id": "fa9e7162",
   "metadata": {},
   "outputs": [],
   "source": []
  },
  {
   "cell_type": "code",
   "execution_count": 101,
   "id": "91b827c2",
   "metadata": {},
   "outputs": [],
   "source": [
    "target = a[0]['obj_label']"
   ]
  },
  {
   "cell_type": "code",
   "execution_count": 102,
   "id": "2b56cb5b",
   "metadata": {},
   "outputs": [],
   "source": [
    "def count_binary(json_file):\n",
    "    count_target = 0\n",
    "    for i in range(len(json_file)):\n",
    "        if get_max_binary(json_file[i]) == target:\n",
    "            count_target += 1\n",
    "    total = len(json_file)\n",
    "    \n",
    "    return count_target, total\n",
    "    "
   ]
  },
  {
   "cell_type": "code",
   "execution_count": 103,
   "id": "66e03a67",
   "metadata": {},
   "outputs": [
    {
     "name": "stdout",
     "output_type": "stream",
     "text": [
      "3\n",
      "892\n"
     ]
    }
   ],
   "source": [
    "c, t= count_binary(a)\n",
    "print(c)\n",
    "print(t)"
   ]
  },
  {
   "cell_type": "code",
   "execution_count": 57,
   "id": "741ad7bd",
   "metadata": {},
   "outputs": [],
   "source": []
  },
  {
   "cell_type": "code",
   "execution_count": 58,
   "id": "f33bdec7",
   "metadata": {},
   "outputs": [
    {
     "ename": "TypeError",
     "evalue": "unhashable type: 'dict'",
     "output_type": "error",
     "traceback": [
      "\u001b[0;31m---------------------------------------------------------------------------\u001b[0m",
      "\u001b[0;31mTypeError\u001b[0m                                 Traceback (most recent call last)",
      "\u001b[0;32m/tmp/ipykernel_70443/4161035512.py\u001b[0m in \u001b[0;36m<module>\u001b[0;34m\u001b[0m\n\u001b[1;32m      1\u001b[0m \u001b[0;32mfor\u001b[0m \u001b[0mi\u001b[0m \u001b[0;32min\u001b[0m \u001b[0ma\u001b[0m\u001b[0;34m:\u001b[0m\u001b[0;34m\u001b[0m\u001b[0;34m\u001b[0m\u001b[0m\n\u001b[0;32m----> 2\u001b[0;31m     \u001b[0mprint\u001b[0m\u001b[0;34m(\u001b[0m\u001b[0mi\u001b[0m\u001b[0;34m[\u001b[0m\u001b[0mi\u001b[0m\u001b[0;34m]\u001b[0m\u001b[0;34m)\u001b[0m\u001b[0;34m\u001b[0m\u001b[0;34m\u001b[0m\u001b[0m\n\u001b[0m",
      "\u001b[0;31mTypeError\u001b[0m: unhashable type: 'dict'"
     ]
    }
   ],
   "source": [
    "for i in a:\n",
    "    print(i[i])"
   ]
  },
  {
   "cell_type": "code",
   "execution_count": 50,
   "id": "f59e6857",
   "metadata": {},
   "outputs": [],
   "source": [
    "max_binary = get_max_binary(a[0])"
   ]
  },
  {
   "cell_type": "code",
   "execution_count": 51,
   "id": "19380615",
   "metadata": {},
   "outputs": [
    {
     "data": {
      "text/plain": [
       "'No'"
      ]
     },
     "execution_count": 51,
     "metadata": {},
     "output_type": "execute_result"
    }
   ],
   "source": [
    "max_binary"
   ]
  },
  {
   "cell_type": "code",
   "execution_count": null,
   "id": "0e5cb9ca",
   "metadata": {},
   "outputs": [],
   "source": []
  },
  {
   "cell_type": "code",
   "execution_count": null,
   "id": "b4001ff9",
   "metadata": {},
   "outputs": [],
   "source": []
  },
  {
   "cell_type": "code",
   "execution_count": null,
   "id": "b8a9a4e4",
   "metadata": {},
   "outputs": [],
   "source": []
  },
  {
   "cell_type": "code",
   "execution_count": null,
   "id": "d8cdb06d",
   "metadata": {},
   "outputs": [],
   "source": []
  },
  {
   "cell_type": "code",
   "execution_count": null,
   "id": "54628910",
   "metadata": {},
   "outputs": [],
   "source": []
  },
  {
   "cell_type": "code",
   "execution_count": null,
   "id": "e4bb65a4",
   "metadata": {},
   "outputs": [],
   "source": []
  },
  {
   "cell_type": "code",
   "execution_count": null,
   "id": "6dcc0695",
   "metadata": {},
   "outputs": [],
   "source": []
  },
  {
   "cell_type": "code",
   "execution_count": null,
   "id": "e44ac456",
   "metadata": {},
   "outputs": [],
   "source": []
  },
  {
   "cell_type": "code",
   "execution_count": null,
   "id": "326134ff",
   "metadata": {},
   "outputs": [],
   "source": []
  },
  {
   "cell_type": "code",
   "execution_count": 32,
   "id": "eb8035dc",
   "metadata": {},
   "outputs": [],
   "source": [
    "vv = [{'token': 'No', 'log_prob': -2.1284899711608887},\n",
    "      {'token': 'Que', 'log_prob': 1.1284899711608887},\n",
    " {'token': 'Yes', 'log_prob': -2.671525478363037}]"
   ]
  },
  {
   "cell_type": "code",
   "execution_count": 33,
   "id": "6024f759",
   "metadata": {},
   "outputs": [
    {
     "name": "stdout",
     "output_type": "stream",
     "text": [
      "{'token': 'Que', 'log_prob': 1.1284899711608887}\n"
     ]
    }
   ],
   "source": [
    "maxPricedItem = max(vv, key=lambda vv:vv['log_prob'])\n",
    "print(maxPricedItem)"
   ]
  },
  {
   "cell_type": "code",
   "execution_count": 25,
   "id": "4d7d0e40",
   "metadata": {},
   "outputs": [
    {
     "name": "stdout",
     "output_type": "stream",
     "text": [
      "{'token': 'No', 'log_prob': -2.1284899711608887}\n",
      "{'token': 'Yes', 'log_prob': -2.671525478363037}\n"
     ]
    }
   ],
   "source": [
    "for i in v:\n",
    "    print(i)"
   ]
  },
  {
   "cell_type": "code",
   "execution_count": 27,
   "id": "177c59d9",
   "metadata": {},
   "outputs": [
    {
     "ename": "AttributeError",
     "evalue": "'list' object has no attribute 'log_prob'",
     "output_type": "error",
     "traceback": [
      "\u001b[0;31m---------------------------------------------------------------------------\u001b[0m",
      "\u001b[0;31mAttributeError\u001b[0m                            Traceback (most recent call last)",
      "\u001b[0;32m/tmp/ipykernel_70443/52589776.py\u001b[0m in \u001b[0;36m<module>\u001b[0;34m\u001b[0m\n\u001b[0;32m----> 1\u001b[0;31m \u001b[0mmax\u001b[0m\u001b[0;34m(\u001b[0m\u001b[0mv\u001b[0m\u001b[0;34m,\u001b[0m \u001b[0mkey\u001b[0m\u001b[0;34m=\u001b[0m\u001b[0mv\u001b[0m\u001b[0;34m.\u001b[0m\u001b[0mlog_prob\u001b[0m\u001b[0;34m)\u001b[0m\u001b[0;34m\u001b[0m\u001b[0;34m\u001b[0m\u001b[0m\n\u001b[0m",
      "\u001b[0;31mAttributeError\u001b[0m: 'list' object has no attribute 'log_prob'"
     ]
    }
   ],
   "source": [
    "max(v, key=lambda k: d.get(k))"
   ]
  },
  {
   "cell_type": "code",
   "execution_count": null,
   "id": "6522b434",
   "metadata": {},
   "outputs": [],
   "source": []
  }
 ],
 "metadata": {
  "kernelspec": {
   "display_name": "Python [conda env:torch] *",
   "language": "python",
   "name": "conda-env-torch-py"
  },
  "language_info": {
   "codemirror_mode": {
    "name": "ipython",
    "version": 3
   },
   "file_extension": ".py",
   "mimetype": "text/x-python",
   "name": "python",
   "nbconvert_exporter": "python",
   "pygments_lexer": "ipython3",
   "version": "3.7.11"
  }
 },
 "nbformat": 4,
 "nbformat_minor": 5
}
